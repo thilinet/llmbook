{
 "cells": [
  {
   "cell_type": "markdown",
   "id": "edc815a1-5849-42db-a761-6499052d47a3",
   "metadata": {},
   "source": [
    "## GPT Family Architecture\n",
    "\n",
    "\n"
   ]
  },
  {
   "cell_type": "markdown",
   "id": "9b60040e-242b-4209-9269-744a98c46100",
   "metadata": {},
   "source": [
    "### GPT-1\n",
    "\n",
    "\n"
   ]
  },
  {
   "cell_type": "code",
   "execution_count": 1,
   "id": "a5e78254-4f6a-4ae1-a63e-5344b53c5c61",
   "metadata": {},
   "outputs": [
    {
     "data": {
      "application/vnd.jupyter.widget-view+json": {
       "model_id": "18804f61ebca41f2be3872e2285a073a",
       "version_major": 2,
       "version_minor": 0
      },
      "text/plain": [
       "config.json:   0%|          | 0.00/665 [00:00<?, ?B/s]"
      ]
     },
     "metadata": {},
     "output_type": "display_data"
    },
    {
     "data": {
      "application/vnd.jupyter.widget-view+json": {
       "model_id": "6bc8df18bc0b452ab0c13ea2789d9c2b",
       "version_major": 2,
       "version_minor": 0
      },
      "text/plain": [
       "model.safetensors:   0%|          | 0.00/548M [00:00<?, ?B/s]"
      ]
     },
     "metadata": {},
     "output_type": "display_data"
    }
   ],
   "source": [
    "from transformers import GPT2Model\n",
    "\n",
    "gpt2_model = GPT2Model.from_pretrained(\"gpt2\")"
   ]
  },
  {
   "cell_type": "code",
   "execution_count": 2,
   "id": "b12ea8a6-c81d-4955-8801-7b3f4cd9b90f",
   "metadata": {},
   "outputs": [
    {
     "data": {
      "text/plain": [
       "<bound method Module.modules of GPT2Model(\n",
       "  (wte): Embedding(50257, 768)\n",
       "  (wpe): Embedding(1024, 768)\n",
       "  (drop): Dropout(p=0.1, inplace=False)\n",
       "  (h): ModuleList(\n",
       "    (0-11): 12 x GPT2Block(\n",
       "      (ln_1): LayerNorm((768,), eps=1e-05, elementwise_affine=True)\n",
       "      (attn): GPT2SdpaAttention(\n",
       "        (c_attn): Conv1D()\n",
       "        (c_proj): Conv1D()\n",
       "        (attn_dropout): Dropout(p=0.1, inplace=False)\n",
       "        (resid_dropout): Dropout(p=0.1, inplace=False)\n",
       "      )\n",
       "      (ln_2): LayerNorm((768,), eps=1e-05, elementwise_affine=True)\n",
       "      (mlp): GPT2MLP(\n",
       "        (c_fc): Conv1D()\n",
       "        (c_proj): Conv1D()\n",
       "        (act): NewGELUActivation()\n",
       "        (dropout): Dropout(p=0.1, inplace=False)\n",
       "      )\n",
       "    )\n",
       "  )\n",
       "  (ln_f): LayerNorm((768,), eps=1e-05, elementwise_affine=True)\n",
       ")>"
      ]
     },
     "execution_count": 2,
     "metadata": {},
     "output_type": "execute_result"
    }
   ],
   "source": [
    "gpt2_model.modules"
   ]
  },
  {
   "cell_type": "code",
   "execution_count": 3,
   "id": "5975427c-48e8-4f17-9593-6896296a7caf",
   "metadata": {},
   "outputs": [],
   "source": [
    "sd = gpt2_model.state_dict()"
   ]
  },
  {
   "cell_type": "code",
   "execution_count": 4,
   "id": "6a48321b-6461-466b-ab82-3c1b9b7d2a18",
   "metadata": {},
   "outputs": [
    {
     "name": "stdout",
     "output_type": "stream",
     "text": [
      "wte.weight\n",
      "wpe.weight\n",
      "h.0.ln_1.weight\n",
      "h.0.ln_1.bias\n",
      "h.0.attn.c_attn.weight\n",
      "h.0.attn.c_attn.bias\n",
      "h.0.attn.c_proj.weight\n",
      "h.0.attn.c_proj.bias\n",
      "h.0.ln_2.weight\n",
      "h.0.ln_2.bias\n",
      "h.0.mlp.c_fc.weight\n",
      "h.0.mlp.c_fc.bias\n",
      "h.0.mlp.c_proj.weight\n",
      "h.0.mlp.c_proj.bias\n",
      "h.1.ln_1.weight\n",
      "h.1.ln_1.bias\n",
      "h.1.attn.c_attn.weight\n",
      "h.1.attn.c_attn.bias\n",
      "h.1.attn.c_proj.weight\n",
      "h.1.attn.c_proj.bias\n",
      "h.1.ln_2.weight\n",
      "h.1.ln_2.bias\n",
      "h.1.mlp.c_fc.weight\n",
      "h.1.mlp.c_fc.bias\n",
      "h.1.mlp.c_proj.weight\n",
      "h.1.mlp.c_proj.bias\n",
      "h.2.ln_1.weight\n",
      "h.2.ln_1.bias\n",
      "h.2.attn.c_attn.weight\n",
      "h.2.attn.c_attn.bias\n",
      "h.2.attn.c_proj.weight\n",
      "h.2.attn.c_proj.bias\n",
      "h.2.ln_2.weight\n",
      "h.2.ln_2.bias\n",
      "h.2.mlp.c_fc.weight\n",
      "h.2.mlp.c_fc.bias\n",
      "h.2.mlp.c_proj.weight\n",
      "h.2.mlp.c_proj.bias\n",
      "h.3.ln_1.weight\n",
      "h.3.ln_1.bias\n",
      "h.3.attn.c_attn.weight\n",
      "h.3.attn.c_attn.bias\n",
      "h.3.attn.c_proj.weight\n",
      "h.3.attn.c_proj.bias\n",
      "h.3.ln_2.weight\n",
      "h.3.ln_2.bias\n",
      "h.3.mlp.c_fc.weight\n",
      "h.3.mlp.c_fc.bias\n",
      "h.3.mlp.c_proj.weight\n",
      "h.3.mlp.c_proj.bias\n",
      "h.4.ln_1.weight\n",
      "h.4.ln_1.bias\n",
      "h.4.attn.c_attn.weight\n",
      "h.4.attn.c_attn.bias\n",
      "h.4.attn.c_proj.weight\n",
      "h.4.attn.c_proj.bias\n",
      "h.4.ln_2.weight\n",
      "h.4.ln_2.bias\n",
      "h.4.mlp.c_fc.weight\n",
      "h.4.mlp.c_fc.bias\n",
      "h.4.mlp.c_proj.weight\n",
      "h.4.mlp.c_proj.bias\n",
      "h.5.ln_1.weight\n",
      "h.5.ln_1.bias\n",
      "h.5.attn.c_attn.weight\n",
      "h.5.attn.c_attn.bias\n",
      "h.5.attn.c_proj.weight\n",
      "h.5.attn.c_proj.bias\n",
      "h.5.ln_2.weight\n",
      "h.5.ln_2.bias\n",
      "h.5.mlp.c_fc.weight\n",
      "h.5.mlp.c_fc.bias\n",
      "h.5.mlp.c_proj.weight\n",
      "h.5.mlp.c_proj.bias\n",
      "h.6.ln_1.weight\n",
      "h.6.ln_1.bias\n",
      "h.6.attn.c_attn.weight\n",
      "h.6.attn.c_attn.bias\n",
      "h.6.attn.c_proj.weight\n",
      "h.6.attn.c_proj.bias\n",
      "h.6.ln_2.weight\n",
      "h.6.ln_2.bias\n",
      "h.6.mlp.c_fc.weight\n",
      "h.6.mlp.c_fc.bias\n",
      "h.6.mlp.c_proj.weight\n",
      "h.6.mlp.c_proj.bias\n",
      "h.7.ln_1.weight\n",
      "h.7.ln_1.bias\n",
      "h.7.attn.c_attn.weight\n",
      "h.7.attn.c_attn.bias\n",
      "h.7.attn.c_proj.weight\n",
      "h.7.attn.c_proj.bias\n",
      "h.7.ln_2.weight\n",
      "h.7.ln_2.bias\n",
      "h.7.mlp.c_fc.weight\n",
      "h.7.mlp.c_fc.bias\n",
      "h.7.mlp.c_proj.weight\n",
      "h.7.mlp.c_proj.bias\n",
      "h.8.ln_1.weight\n",
      "h.8.ln_1.bias\n",
      "h.8.attn.c_attn.weight\n",
      "h.8.attn.c_attn.bias\n",
      "h.8.attn.c_proj.weight\n",
      "h.8.attn.c_proj.bias\n",
      "h.8.ln_2.weight\n",
      "h.8.ln_2.bias\n",
      "h.8.mlp.c_fc.weight\n",
      "h.8.mlp.c_fc.bias\n",
      "h.8.mlp.c_proj.weight\n",
      "h.8.mlp.c_proj.bias\n",
      "h.9.ln_1.weight\n",
      "h.9.ln_1.bias\n",
      "h.9.attn.c_attn.weight\n",
      "h.9.attn.c_attn.bias\n",
      "h.9.attn.c_proj.weight\n",
      "h.9.attn.c_proj.bias\n",
      "h.9.ln_2.weight\n",
      "h.9.ln_2.bias\n",
      "h.9.mlp.c_fc.weight\n",
      "h.9.mlp.c_fc.bias\n",
      "h.9.mlp.c_proj.weight\n",
      "h.9.mlp.c_proj.bias\n",
      "h.10.ln_1.weight\n",
      "h.10.ln_1.bias\n",
      "h.10.attn.c_attn.weight\n",
      "h.10.attn.c_attn.bias\n",
      "h.10.attn.c_proj.weight\n",
      "h.10.attn.c_proj.bias\n",
      "h.10.ln_2.weight\n",
      "h.10.ln_2.bias\n",
      "h.10.mlp.c_fc.weight\n",
      "h.10.mlp.c_fc.bias\n",
      "h.10.mlp.c_proj.weight\n",
      "h.10.mlp.c_proj.bias\n",
      "h.11.ln_1.weight\n",
      "h.11.ln_1.bias\n",
      "h.11.attn.c_attn.weight\n",
      "h.11.attn.c_attn.bias\n",
      "h.11.attn.c_proj.weight\n",
      "h.11.attn.c_proj.bias\n",
      "h.11.ln_2.weight\n",
      "h.11.ln_2.bias\n",
      "h.11.mlp.c_fc.weight\n",
      "h.11.mlp.c_fc.bias\n",
      "h.11.mlp.c_proj.weight\n",
      "h.11.mlp.c_proj.bias\n",
      "ln_f.weight\n",
      "ln_f.bias\n"
     ]
    }
   ],
   "source": [
    "for k in sd:\n",
    "    print(k)"
   ]
  },
  {
   "cell_type": "markdown",
   "id": "c047c50e",
   "metadata": {},
   "source": [
    "## Phi 2 Model Architecture"
   ]
  },
  {
   "cell_type": "code",
   "execution_count": 8,
   "id": "7f1d9487",
   "metadata": {},
   "outputs": [
    {
     "data": {
      "application/vnd.jupyter.widget-view+json": {
       "model_id": "4c45b120b321432b8285aa645d24bab0",
       "version_major": 2,
       "version_minor": 0
      },
      "text/plain": [
       "Loading checkpoint shards:   0%|          | 0/2 [00:00<?, ?it/s]"
      ]
     },
     "metadata": {},
     "output_type": "display_data"
    },
    {
     "data": {
      "application/vnd.jupyter.widget-view+json": {
       "model_id": "c7cd9138a7f94a779ad2270aaa2eb6e1",
       "version_major": 2,
       "version_minor": 0
      },
      "text/plain": [
       "generation_config.json:   0%|          | 0.00/124 [00:00<?, ?B/s]"
      ]
     },
     "metadata": {},
     "output_type": "display_data"
    }
   ],
   "source": [
    "import torch\n",
    "from transformers import AutoModelForCausalLM\n",
    "\n",
    "torch.set_default_device(\"cpu\")\n",
    "\n",
    "model = AutoModelForCausalLM.from_pretrained(\"microsoft/phi-2\")"
   ]
  },
  {
   "cell_type": "code",
   "execution_count": 9,
   "id": "aa5b0efc",
   "metadata": {},
   "outputs": [
    {
     "data": {
      "text/plain": [
       "<bound method Module.modules of PhiForCausalLM(\n",
       "  (model): PhiModel(\n",
       "    (embed_tokens): Embedding(51200, 2560)\n",
       "    (embed_dropout): Dropout(p=0.0, inplace=False)\n",
       "    (layers): ModuleList(\n",
       "      (0-31): 32 x PhiDecoderLayer(\n",
       "        (self_attn): PhiSdpaAttention(\n",
       "          (q_proj): Linear(in_features=2560, out_features=2560, bias=True)\n",
       "          (k_proj): Linear(in_features=2560, out_features=2560, bias=True)\n",
       "          (v_proj): Linear(in_features=2560, out_features=2560, bias=True)\n",
       "          (dense): Linear(in_features=2560, out_features=2560, bias=True)\n",
       "          (rotary_emb): PhiRotaryEmbedding()\n",
       "        )\n",
       "        (mlp): PhiMLP(\n",
       "          (activation_fn): NewGELUActivation()\n",
       "          (fc1): Linear(in_features=2560, out_features=10240, bias=True)\n",
       "          (fc2): Linear(in_features=10240, out_features=2560, bias=True)\n",
       "        )\n",
       "        (input_layernorm): LayerNorm((2560,), eps=1e-05, elementwise_affine=True)\n",
       "        (resid_dropout): Dropout(p=0.1, inplace=False)\n",
       "      )\n",
       "    )\n",
       "    (final_layernorm): LayerNorm((2560,), eps=1e-05, elementwise_affine=True)\n",
       "  )\n",
       "  (lm_head): Linear(in_features=2560, out_features=51200, bias=True)\n",
       ")>"
      ]
     },
     "execution_count": 9,
     "metadata": {},
     "output_type": "execute_result"
    }
   ],
   "source": [
    "model.modules"
   ]
  },
  {
   "cell_type": "code",
   "execution_count": 10,
   "id": "8424487f",
   "metadata": {},
   "outputs": [],
   "source": [
    "sd = model.state_dict()"
   ]
  },
  {
   "cell_type": "code",
   "execution_count": 11,
   "id": "8f639068",
   "metadata": {},
   "outputs": [
    {
     "data": {
      "text/plain": [
       "odict_keys(['model.embed_tokens.weight', 'model.layers.0.self_attn.q_proj.weight', 'model.layers.0.self_attn.q_proj.bias', 'model.layers.0.self_attn.k_proj.weight', 'model.layers.0.self_attn.k_proj.bias', 'model.layers.0.self_attn.v_proj.weight', 'model.layers.0.self_attn.v_proj.bias', 'model.layers.0.self_attn.dense.weight', 'model.layers.0.self_attn.dense.bias', 'model.layers.0.mlp.fc1.weight', 'model.layers.0.mlp.fc1.bias', 'model.layers.0.mlp.fc2.weight', 'model.layers.0.mlp.fc2.bias', 'model.layers.0.input_layernorm.weight', 'model.layers.0.input_layernorm.bias', 'model.layers.1.self_attn.q_proj.weight', 'model.layers.1.self_attn.q_proj.bias', 'model.layers.1.self_attn.k_proj.weight', 'model.layers.1.self_attn.k_proj.bias', 'model.layers.1.self_attn.v_proj.weight', 'model.layers.1.self_attn.v_proj.bias', 'model.layers.1.self_attn.dense.weight', 'model.layers.1.self_attn.dense.bias', 'model.layers.1.mlp.fc1.weight', 'model.layers.1.mlp.fc1.bias', 'model.layers.1.mlp.fc2.weight', 'model.layers.1.mlp.fc2.bias', 'model.layers.1.input_layernorm.weight', 'model.layers.1.input_layernorm.bias', 'model.layers.2.self_attn.q_proj.weight', 'model.layers.2.self_attn.q_proj.bias', 'model.layers.2.self_attn.k_proj.weight', 'model.layers.2.self_attn.k_proj.bias', 'model.layers.2.self_attn.v_proj.weight', 'model.layers.2.self_attn.v_proj.bias', 'model.layers.2.self_attn.dense.weight', 'model.layers.2.self_attn.dense.bias', 'model.layers.2.mlp.fc1.weight', 'model.layers.2.mlp.fc1.bias', 'model.layers.2.mlp.fc2.weight', 'model.layers.2.mlp.fc2.bias', 'model.layers.2.input_layernorm.weight', 'model.layers.2.input_layernorm.bias', 'model.layers.3.self_attn.q_proj.weight', 'model.layers.3.self_attn.q_proj.bias', 'model.layers.3.self_attn.k_proj.weight', 'model.layers.3.self_attn.k_proj.bias', 'model.layers.3.self_attn.v_proj.weight', 'model.layers.3.self_attn.v_proj.bias', 'model.layers.3.self_attn.dense.weight', 'model.layers.3.self_attn.dense.bias', 'model.layers.3.mlp.fc1.weight', 'model.layers.3.mlp.fc1.bias', 'model.layers.3.mlp.fc2.weight', 'model.layers.3.mlp.fc2.bias', 'model.layers.3.input_layernorm.weight', 'model.layers.3.input_layernorm.bias', 'model.layers.4.self_attn.q_proj.weight', 'model.layers.4.self_attn.q_proj.bias', 'model.layers.4.self_attn.k_proj.weight', 'model.layers.4.self_attn.k_proj.bias', 'model.layers.4.self_attn.v_proj.weight', 'model.layers.4.self_attn.v_proj.bias', 'model.layers.4.self_attn.dense.weight', 'model.layers.4.self_attn.dense.bias', 'model.layers.4.mlp.fc1.weight', 'model.layers.4.mlp.fc1.bias', 'model.layers.4.mlp.fc2.weight', 'model.layers.4.mlp.fc2.bias', 'model.layers.4.input_layernorm.weight', 'model.layers.4.input_layernorm.bias', 'model.layers.5.self_attn.q_proj.weight', 'model.layers.5.self_attn.q_proj.bias', 'model.layers.5.self_attn.k_proj.weight', 'model.layers.5.self_attn.k_proj.bias', 'model.layers.5.self_attn.v_proj.weight', 'model.layers.5.self_attn.v_proj.bias', 'model.layers.5.self_attn.dense.weight', 'model.layers.5.self_attn.dense.bias', 'model.layers.5.mlp.fc1.weight', 'model.layers.5.mlp.fc1.bias', 'model.layers.5.mlp.fc2.weight', 'model.layers.5.mlp.fc2.bias', 'model.layers.5.input_layernorm.weight', 'model.layers.5.input_layernorm.bias', 'model.layers.6.self_attn.q_proj.weight', 'model.layers.6.self_attn.q_proj.bias', 'model.layers.6.self_attn.k_proj.weight', 'model.layers.6.self_attn.k_proj.bias', 'model.layers.6.self_attn.v_proj.weight', 'model.layers.6.self_attn.v_proj.bias', 'model.layers.6.self_attn.dense.weight', 'model.layers.6.self_attn.dense.bias', 'model.layers.6.mlp.fc1.weight', 'model.layers.6.mlp.fc1.bias', 'model.layers.6.mlp.fc2.weight', 'model.layers.6.mlp.fc2.bias', 'model.layers.6.input_layernorm.weight', 'model.layers.6.input_layernorm.bias', 'model.layers.7.self_attn.q_proj.weight', 'model.layers.7.self_attn.q_proj.bias', 'model.layers.7.self_attn.k_proj.weight', 'model.layers.7.self_attn.k_proj.bias', 'model.layers.7.self_attn.v_proj.weight', 'model.layers.7.self_attn.v_proj.bias', 'model.layers.7.self_attn.dense.weight', 'model.layers.7.self_attn.dense.bias', 'model.layers.7.mlp.fc1.weight', 'model.layers.7.mlp.fc1.bias', 'model.layers.7.mlp.fc2.weight', 'model.layers.7.mlp.fc2.bias', 'model.layers.7.input_layernorm.weight', 'model.layers.7.input_layernorm.bias', 'model.layers.8.self_attn.q_proj.weight', 'model.layers.8.self_attn.q_proj.bias', 'model.layers.8.self_attn.k_proj.weight', 'model.layers.8.self_attn.k_proj.bias', 'model.layers.8.self_attn.v_proj.weight', 'model.layers.8.self_attn.v_proj.bias', 'model.layers.8.self_attn.dense.weight', 'model.layers.8.self_attn.dense.bias', 'model.layers.8.mlp.fc1.weight', 'model.layers.8.mlp.fc1.bias', 'model.layers.8.mlp.fc2.weight', 'model.layers.8.mlp.fc2.bias', 'model.layers.8.input_layernorm.weight', 'model.layers.8.input_layernorm.bias', 'model.layers.9.self_attn.q_proj.weight', 'model.layers.9.self_attn.q_proj.bias', 'model.layers.9.self_attn.k_proj.weight', 'model.layers.9.self_attn.k_proj.bias', 'model.layers.9.self_attn.v_proj.weight', 'model.layers.9.self_attn.v_proj.bias', 'model.layers.9.self_attn.dense.weight', 'model.layers.9.self_attn.dense.bias', 'model.layers.9.mlp.fc1.weight', 'model.layers.9.mlp.fc1.bias', 'model.layers.9.mlp.fc2.weight', 'model.layers.9.mlp.fc2.bias', 'model.layers.9.input_layernorm.weight', 'model.layers.9.input_layernorm.bias', 'model.layers.10.self_attn.q_proj.weight', 'model.layers.10.self_attn.q_proj.bias', 'model.layers.10.self_attn.k_proj.weight', 'model.layers.10.self_attn.k_proj.bias', 'model.layers.10.self_attn.v_proj.weight', 'model.layers.10.self_attn.v_proj.bias', 'model.layers.10.self_attn.dense.weight', 'model.layers.10.self_attn.dense.bias', 'model.layers.10.mlp.fc1.weight', 'model.layers.10.mlp.fc1.bias', 'model.layers.10.mlp.fc2.weight', 'model.layers.10.mlp.fc2.bias', 'model.layers.10.input_layernorm.weight', 'model.layers.10.input_layernorm.bias', 'model.layers.11.self_attn.q_proj.weight', 'model.layers.11.self_attn.q_proj.bias', 'model.layers.11.self_attn.k_proj.weight', 'model.layers.11.self_attn.k_proj.bias', 'model.layers.11.self_attn.v_proj.weight', 'model.layers.11.self_attn.v_proj.bias', 'model.layers.11.self_attn.dense.weight', 'model.layers.11.self_attn.dense.bias', 'model.layers.11.mlp.fc1.weight', 'model.layers.11.mlp.fc1.bias', 'model.layers.11.mlp.fc2.weight', 'model.layers.11.mlp.fc2.bias', 'model.layers.11.input_layernorm.weight', 'model.layers.11.input_layernorm.bias', 'model.layers.12.self_attn.q_proj.weight', 'model.layers.12.self_attn.q_proj.bias', 'model.layers.12.self_attn.k_proj.weight', 'model.layers.12.self_attn.k_proj.bias', 'model.layers.12.self_attn.v_proj.weight', 'model.layers.12.self_attn.v_proj.bias', 'model.layers.12.self_attn.dense.weight', 'model.layers.12.self_attn.dense.bias', 'model.layers.12.mlp.fc1.weight', 'model.layers.12.mlp.fc1.bias', 'model.layers.12.mlp.fc2.weight', 'model.layers.12.mlp.fc2.bias', 'model.layers.12.input_layernorm.weight', 'model.layers.12.input_layernorm.bias', 'model.layers.13.self_attn.q_proj.weight', 'model.layers.13.self_attn.q_proj.bias', 'model.layers.13.self_attn.k_proj.weight', 'model.layers.13.self_attn.k_proj.bias', 'model.layers.13.self_attn.v_proj.weight', 'model.layers.13.self_attn.v_proj.bias', 'model.layers.13.self_attn.dense.weight', 'model.layers.13.self_attn.dense.bias', 'model.layers.13.mlp.fc1.weight', 'model.layers.13.mlp.fc1.bias', 'model.layers.13.mlp.fc2.weight', 'model.layers.13.mlp.fc2.bias', 'model.layers.13.input_layernorm.weight', 'model.layers.13.input_layernorm.bias', 'model.layers.14.self_attn.q_proj.weight', 'model.layers.14.self_attn.q_proj.bias', 'model.layers.14.self_attn.k_proj.weight', 'model.layers.14.self_attn.k_proj.bias', 'model.layers.14.self_attn.v_proj.weight', 'model.layers.14.self_attn.v_proj.bias', 'model.layers.14.self_attn.dense.weight', 'model.layers.14.self_attn.dense.bias', 'model.layers.14.mlp.fc1.weight', 'model.layers.14.mlp.fc1.bias', 'model.layers.14.mlp.fc2.weight', 'model.layers.14.mlp.fc2.bias', 'model.layers.14.input_layernorm.weight', 'model.layers.14.input_layernorm.bias', 'model.layers.15.self_attn.q_proj.weight', 'model.layers.15.self_attn.q_proj.bias', 'model.layers.15.self_attn.k_proj.weight', 'model.layers.15.self_attn.k_proj.bias', 'model.layers.15.self_attn.v_proj.weight', 'model.layers.15.self_attn.v_proj.bias', 'model.layers.15.self_attn.dense.weight', 'model.layers.15.self_attn.dense.bias', 'model.layers.15.mlp.fc1.weight', 'model.layers.15.mlp.fc1.bias', 'model.layers.15.mlp.fc2.weight', 'model.layers.15.mlp.fc2.bias', 'model.layers.15.input_layernorm.weight', 'model.layers.15.input_layernorm.bias', 'model.layers.16.self_attn.q_proj.weight', 'model.layers.16.self_attn.q_proj.bias', 'model.layers.16.self_attn.k_proj.weight', 'model.layers.16.self_attn.k_proj.bias', 'model.layers.16.self_attn.v_proj.weight', 'model.layers.16.self_attn.v_proj.bias', 'model.layers.16.self_attn.dense.weight', 'model.layers.16.self_attn.dense.bias', 'model.layers.16.mlp.fc1.weight', 'model.layers.16.mlp.fc1.bias', 'model.layers.16.mlp.fc2.weight', 'model.layers.16.mlp.fc2.bias', 'model.layers.16.input_layernorm.weight', 'model.layers.16.input_layernorm.bias', 'model.layers.17.self_attn.q_proj.weight', 'model.layers.17.self_attn.q_proj.bias', 'model.layers.17.self_attn.k_proj.weight', 'model.layers.17.self_attn.k_proj.bias', 'model.layers.17.self_attn.v_proj.weight', 'model.layers.17.self_attn.v_proj.bias', 'model.layers.17.self_attn.dense.weight', 'model.layers.17.self_attn.dense.bias', 'model.layers.17.mlp.fc1.weight', 'model.layers.17.mlp.fc1.bias', 'model.layers.17.mlp.fc2.weight', 'model.layers.17.mlp.fc2.bias', 'model.layers.17.input_layernorm.weight', 'model.layers.17.input_layernorm.bias', 'model.layers.18.self_attn.q_proj.weight', 'model.layers.18.self_attn.q_proj.bias', 'model.layers.18.self_attn.k_proj.weight', 'model.layers.18.self_attn.k_proj.bias', 'model.layers.18.self_attn.v_proj.weight', 'model.layers.18.self_attn.v_proj.bias', 'model.layers.18.self_attn.dense.weight', 'model.layers.18.self_attn.dense.bias', 'model.layers.18.mlp.fc1.weight', 'model.layers.18.mlp.fc1.bias', 'model.layers.18.mlp.fc2.weight', 'model.layers.18.mlp.fc2.bias', 'model.layers.18.input_layernorm.weight', 'model.layers.18.input_layernorm.bias', 'model.layers.19.self_attn.q_proj.weight', 'model.layers.19.self_attn.q_proj.bias', 'model.layers.19.self_attn.k_proj.weight', 'model.layers.19.self_attn.k_proj.bias', 'model.layers.19.self_attn.v_proj.weight', 'model.layers.19.self_attn.v_proj.bias', 'model.layers.19.self_attn.dense.weight', 'model.layers.19.self_attn.dense.bias', 'model.layers.19.mlp.fc1.weight', 'model.layers.19.mlp.fc1.bias', 'model.layers.19.mlp.fc2.weight', 'model.layers.19.mlp.fc2.bias', 'model.layers.19.input_layernorm.weight', 'model.layers.19.input_layernorm.bias', 'model.layers.20.self_attn.q_proj.weight', 'model.layers.20.self_attn.q_proj.bias', 'model.layers.20.self_attn.k_proj.weight', 'model.layers.20.self_attn.k_proj.bias', 'model.layers.20.self_attn.v_proj.weight', 'model.layers.20.self_attn.v_proj.bias', 'model.layers.20.self_attn.dense.weight', 'model.layers.20.self_attn.dense.bias', 'model.layers.20.mlp.fc1.weight', 'model.layers.20.mlp.fc1.bias', 'model.layers.20.mlp.fc2.weight', 'model.layers.20.mlp.fc2.bias', 'model.layers.20.input_layernorm.weight', 'model.layers.20.input_layernorm.bias', 'model.layers.21.self_attn.q_proj.weight', 'model.layers.21.self_attn.q_proj.bias', 'model.layers.21.self_attn.k_proj.weight', 'model.layers.21.self_attn.k_proj.bias', 'model.layers.21.self_attn.v_proj.weight', 'model.layers.21.self_attn.v_proj.bias', 'model.layers.21.self_attn.dense.weight', 'model.layers.21.self_attn.dense.bias', 'model.layers.21.mlp.fc1.weight', 'model.layers.21.mlp.fc1.bias', 'model.layers.21.mlp.fc2.weight', 'model.layers.21.mlp.fc2.bias', 'model.layers.21.input_layernorm.weight', 'model.layers.21.input_layernorm.bias', 'model.layers.22.self_attn.q_proj.weight', 'model.layers.22.self_attn.q_proj.bias', 'model.layers.22.self_attn.k_proj.weight', 'model.layers.22.self_attn.k_proj.bias', 'model.layers.22.self_attn.v_proj.weight', 'model.layers.22.self_attn.v_proj.bias', 'model.layers.22.self_attn.dense.weight', 'model.layers.22.self_attn.dense.bias', 'model.layers.22.mlp.fc1.weight', 'model.layers.22.mlp.fc1.bias', 'model.layers.22.mlp.fc2.weight', 'model.layers.22.mlp.fc2.bias', 'model.layers.22.input_layernorm.weight', 'model.layers.22.input_layernorm.bias', 'model.layers.23.self_attn.q_proj.weight', 'model.layers.23.self_attn.q_proj.bias', 'model.layers.23.self_attn.k_proj.weight', 'model.layers.23.self_attn.k_proj.bias', 'model.layers.23.self_attn.v_proj.weight', 'model.layers.23.self_attn.v_proj.bias', 'model.layers.23.self_attn.dense.weight', 'model.layers.23.self_attn.dense.bias', 'model.layers.23.mlp.fc1.weight', 'model.layers.23.mlp.fc1.bias', 'model.layers.23.mlp.fc2.weight', 'model.layers.23.mlp.fc2.bias', 'model.layers.23.input_layernorm.weight', 'model.layers.23.input_layernorm.bias', 'model.layers.24.self_attn.q_proj.weight', 'model.layers.24.self_attn.q_proj.bias', 'model.layers.24.self_attn.k_proj.weight', 'model.layers.24.self_attn.k_proj.bias', 'model.layers.24.self_attn.v_proj.weight', 'model.layers.24.self_attn.v_proj.bias', 'model.layers.24.self_attn.dense.weight', 'model.layers.24.self_attn.dense.bias', 'model.layers.24.mlp.fc1.weight', 'model.layers.24.mlp.fc1.bias', 'model.layers.24.mlp.fc2.weight', 'model.layers.24.mlp.fc2.bias', 'model.layers.24.input_layernorm.weight', 'model.layers.24.input_layernorm.bias', 'model.layers.25.self_attn.q_proj.weight', 'model.layers.25.self_attn.q_proj.bias', 'model.layers.25.self_attn.k_proj.weight', 'model.layers.25.self_attn.k_proj.bias', 'model.layers.25.self_attn.v_proj.weight', 'model.layers.25.self_attn.v_proj.bias', 'model.layers.25.self_attn.dense.weight', 'model.layers.25.self_attn.dense.bias', 'model.layers.25.mlp.fc1.weight', 'model.layers.25.mlp.fc1.bias', 'model.layers.25.mlp.fc2.weight', 'model.layers.25.mlp.fc2.bias', 'model.layers.25.input_layernorm.weight', 'model.layers.25.input_layernorm.bias', 'model.layers.26.self_attn.q_proj.weight', 'model.layers.26.self_attn.q_proj.bias', 'model.layers.26.self_attn.k_proj.weight', 'model.layers.26.self_attn.k_proj.bias', 'model.layers.26.self_attn.v_proj.weight', 'model.layers.26.self_attn.v_proj.bias', 'model.layers.26.self_attn.dense.weight', 'model.layers.26.self_attn.dense.bias', 'model.layers.26.mlp.fc1.weight', 'model.layers.26.mlp.fc1.bias', 'model.layers.26.mlp.fc2.weight', 'model.layers.26.mlp.fc2.bias', 'model.layers.26.input_layernorm.weight', 'model.layers.26.input_layernorm.bias', 'model.layers.27.self_attn.q_proj.weight', 'model.layers.27.self_attn.q_proj.bias', 'model.layers.27.self_attn.k_proj.weight', 'model.layers.27.self_attn.k_proj.bias', 'model.layers.27.self_attn.v_proj.weight', 'model.layers.27.self_attn.v_proj.bias', 'model.layers.27.self_attn.dense.weight', 'model.layers.27.self_attn.dense.bias', 'model.layers.27.mlp.fc1.weight', 'model.layers.27.mlp.fc1.bias', 'model.layers.27.mlp.fc2.weight', 'model.layers.27.mlp.fc2.bias', 'model.layers.27.input_layernorm.weight', 'model.layers.27.input_layernorm.bias', 'model.layers.28.self_attn.q_proj.weight', 'model.layers.28.self_attn.q_proj.bias', 'model.layers.28.self_attn.k_proj.weight', 'model.layers.28.self_attn.k_proj.bias', 'model.layers.28.self_attn.v_proj.weight', 'model.layers.28.self_attn.v_proj.bias', 'model.layers.28.self_attn.dense.weight', 'model.layers.28.self_attn.dense.bias', 'model.layers.28.mlp.fc1.weight', 'model.layers.28.mlp.fc1.bias', 'model.layers.28.mlp.fc2.weight', 'model.layers.28.mlp.fc2.bias', 'model.layers.28.input_layernorm.weight', 'model.layers.28.input_layernorm.bias', 'model.layers.29.self_attn.q_proj.weight', 'model.layers.29.self_attn.q_proj.bias', 'model.layers.29.self_attn.k_proj.weight', 'model.layers.29.self_attn.k_proj.bias', 'model.layers.29.self_attn.v_proj.weight', 'model.layers.29.self_attn.v_proj.bias', 'model.layers.29.self_attn.dense.weight', 'model.layers.29.self_attn.dense.bias', 'model.layers.29.mlp.fc1.weight', 'model.layers.29.mlp.fc1.bias', 'model.layers.29.mlp.fc2.weight', 'model.layers.29.mlp.fc2.bias', 'model.layers.29.input_layernorm.weight', 'model.layers.29.input_layernorm.bias', 'model.layers.30.self_attn.q_proj.weight', 'model.layers.30.self_attn.q_proj.bias', 'model.layers.30.self_attn.k_proj.weight', 'model.layers.30.self_attn.k_proj.bias', 'model.layers.30.self_attn.v_proj.weight', 'model.layers.30.self_attn.v_proj.bias', 'model.layers.30.self_attn.dense.weight', 'model.layers.30.self_attn.dense.bias', 'model.layers.30.mlp.fc1.weight', 'model.layers.30.mlp.fc1.bias', 'model.layers.30.mlp.fc2.weight', 'model.layers.30.mlp.fc2.bias', 'model.layers.30.input_layernorm.weight', 'model.layers.30.input_layernorm.bias', 'model.layers.31.self_attn.q_proj.weight', 'model.layers.31.self_attn.q_proj.bias', 'model.layers.31.self_attn.k_proj.weight', 'model.layers.31.self_attn.k_proj.bias', 'model.layers.31.self_attn.v_proj.weight', 'model.layers.31.self_attn.v_proj.bias', 'model.layers.31.self_attn.dense.weight', 'model.layers.31.self_attn.dense.bias', 'model.layers.31.mlp.fc1.weight', 'model.layers.31.mlp.fc1.bias', 'model.layers.31.mlp.fc2.weight', 'model.layers.31.mlp.fc2.bias', 'model.layers.31.input_layernorm.weight', 'model.layers.31.input_layernorm.bias', 'model.final_layernorm.weight', 'model.final_layernorm.bias', 'lm_head.weight', 'lm_head.bias'])"
      ]
     },
     "execution_count": 11,
     "metadata": {},
     "output_type": "execute_result"
    }
   ],
   "source": [
    "sd.keys()"
   ]
  },
  {
   "cell_type": "code",
   "execution_count": null,
   "id": "e92ade02",
   "metadata": {},
   "outputs": [],
   "source": []
  }
 ],
 "metadata": {
  "kernelspec": {
   "display_name": "Python 3 (ipykernel)",
   "language": "python",
   "name": "python3"
  },
  "language_info": {
   "codemirror_mode": {
    "name": "ipython",
    "version": 3
   },
   "file_extension": ".py",
   "mimetype": "text/x-python",
   "name": "python",
   "nbconvert_exporter": "python",
   "pygments_lexer": "ipython3",
   "version": "3.10.12"
  }
 },
 "nbformat": 4,
 "nbformat_minor": 5
}
