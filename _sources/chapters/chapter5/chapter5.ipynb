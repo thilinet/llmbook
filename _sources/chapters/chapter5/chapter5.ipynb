{
 "cells": [
  {
   "cell_type": "markdown",
   "id": "b6a5f508-c751-431d-b8e9-f15e3d047983",
   "metadata": {},
   "source": [
    "# Chapter 5 - Parameter Effiecient Fine Tuning\n",
    "\n",
    "LORA, QLORA"
   ]
  },
  {
   "cell_type": "code",
   "execution_count": null,
   "id": "5ce5d30e-7c0e-4eb6-8d5a-75d5cedc0d09",
   "metadata": {},
   "outputs": [],
   "source": []
  }
 ],
 "metadata": {
  "kernelspec": {
   "display_name": "Python 3 (ipykernel)",
   "language": "python",
   "name": "python3"
  },
  "language_info": {
   "codemirror_mode": {
    "name": "ipython",
    "version": 3
   },
   "file_extension": ".py",
   "mimetype": "text/x-python",
   "name": "python",
   "nbconvert_exporter": "python",
   "pygments_lexer": "ipython3",
   "version": "3.10.12"
  }
 },
 "nbformat": 4,
 "nbformat_minor": 5
}
