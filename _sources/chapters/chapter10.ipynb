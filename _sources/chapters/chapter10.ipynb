{
 "cells": [
  {
   "cell_type": "markdown",
   "id": "fb7bddd6-3399-4c2b-83c4-b2c7b56cef5b",
   "metadata": {},
   "source": [
    "# Chapter 10- Artificial General Intelligence"
   ]
  },
  {
   "cell_type": "code",
   "execution_count": 62,
   "id": "b801e1f0-b5c5-488c-9733-ad1d726925d1",
   "metadata": {},
   "outputs": [],
   "source": [
    "from langchain_community.llms import Ollama\n",
    "\n",
    "OBJECTIVE = \"Investigate NVIDIA stock\"\n",
    "MODEL = \"phi3:latest\"\n",
    "\n",
    "llm = Ollama(model=MODEL, top_p=1)"
   ]
  },
  {
   "cell_type": "code",
   "execution_count": 63,
   "id": "802dd46a-b8d7-4353-9d36-1cdc10bc8257",
   "metadata": {},
   "outputs": [],
   "source": [
    "from collections import deque\n",
    "task_list = deque([])\n",
    "\n",
    "first_task = {\n",
    "    \"task_id\":1\n",
    "   ,\"task_name\": \"Develop a task list\" \n",
    "}\n",
    "task_id_counter = 1\n",
    "task_list.append(first_task)"
   ]
  },
  {
   "cell_type": "code",
   "execution_count": 64,
   "id": "d013a336-1b14-484f-8774-eb531d1f685e",
   "metadata": {},
   "outputs": [],
   "source": [
    "task_execution_prompt = PromptTemplate.from_template(\n",
    "    \"You are an AI who performs one task based on the following objective: {objective}. \\\n",
    "    Your task: {task}\\nResponse:\"\n",
    ")\n",
    "\n",
    "task_execution_chain = task_execution_prompt | llm"
   ]
  },
  {
   "cell_type": "code",
   "execution_count": 65,
   "id": "0a52b007-5c7a-4f9e-8b35-55e1fcda9d15",
   "metadata": {},
   "outputs": [],
   "source": [
    "task = task_list.popleft()\n",
    "query = {\"objective\":OBJECTIVE, \"task\": task['task_name']}\n",
    "result = task_execution_chain.invoke(query)\n"
   ]
  },
  {
   "cell_type": "code",
   "execution_count": 66,
   "id": "fd64a3a7-fe4d-4cc5-a954-c0036ee66845",
   "metadata": {},
   "outputs": [],
   "source": [
    "task_creation_prompt = PromptTemplate.from_template(\n",
    "    \"You are a task creation AI that uses the result of an execution agent \\\n",
    "    to create new tasks witht he followiing objective: {objective}, \\\n",
    "    The last completed task has the result {result}. \\\n",
    "    This result was based on task description {task_description}. \\\n",
    "    These are incomplete tasks: {task_list}. \\\n",
    "    Based on the result, create a new task to be completed by the \\\n",
    "    AI system that do not overlap with incomplete tasks. \\\n",
    "    Return the tasks as an array\"\n",
    ")"
   ]
  },
  {
   "cell_type": "code",
   "execution_count": 67,
   "id": "4c6d909d-18b5-466c-a3e3-268651920e06",
   "metadata": {},
   "outputs": [],
   "source": [
    "chain = task_creation_prompt | llm \n",
    "query = {\"objective\":OBJECTIVE, \"result\": result, \"task_description\":first_task['task_name'], \"task_list\":None}\n",
    "tasks = chain.invoke(query)"
   ]
  },
  {
   "cell_type": "code",
   "execution_count": 68,
   "id": "6aa67265-d847-44ba-a1cf-68f774cc1f3c",
   "metadata": {},
   "outputs": [
    {
     "data": {
      "text/plain": [
       "'[\\n  \"Conduct thorough market analysis of NVIDIA Corporation\\'s sector, focusing on growth drivers and potential threats.\"\\n]'"
      ]
     },
     "execution_count": 68,
     "metadata": {},
     "output_type": "execute_result"
    }
   ],
   "source": [
    "results"
   ]
  },
  {
   "cell_type": "code",
   "execution_count": 70,
   "id": "de0e91e8-5861-46c7-9036-7eaf7839c182",
   "metadata": {},
   "outputs": [],
   "source": [
    "task_id_counter+= 1\n",
    "\n",
    "task = {\n",
    "    \"task_id\":task_id_counter\n",
    "   ,\"task_name\": eval(results)[0]\n",
    "}\n",
    "task_list.append(task)\n"
   ]
  },
  {
   "cell_type": "code",
   "execution_count": 71,
   "id": "259314f5-030c-4dab-a69f-b0bf3d200394",
   "metadata": {},
   "outputs": [],
   "source": [
    "task = task_list.popleft()\n",
    "query = {\"objective\":OBJECTIVE, \"task\": task['task_name']}\n",
    "result = task_execution_chain.invoke(query)\n"
   ]
  },
  {
   "cell_type": "code",
   "execution_count": 72,
   "id": "090fd1b6-fb8d-40fb-9fbf-9f4db2bba397",
   "metadata": {},
   "outputs": [
    {
     "data": {
      "text/plain": [
       "\"To conduct a comprehensive market analysis for NVIDIA Corporation within its semiconductor industry segment, I will focus on identifying key growth drivers and potential risks that could impact the company's performance. This investigation involves examining various aspects such as technological advancements, competitive landscape, regulatory environment, and overall economic conditions.\\n\\n1. Technological Advancements: NVIDIA is a leading innovator in graphics processing units (GPUs) for both consumer and professional markets. The continuous development of cutting-edge technologies like AI computing solutions, data center GPU offerings, and continued advancement in gaming technology are significant growth drivers. Additionally, the company's investments in emerging fields such as autonomous vehicles, deep learning, and cloud infrastructure services could further enhance its market positioning.\\n\\n2. Competitive Landscape: NVIDIA faces competition from both established companies like Intel and Advanced Micro Devices (AMD) and rising players in the GPU industry. The rivalry between AMD's Radeon GPU lineup, for example, has intensified due to technological breakthroughs such as its Navi architecture. However, NVIDIA maintains a strong presence in specific market segments, including gaming, data center, and professional visualization applications, where it holds substantial market share.\\n\\n3. Regulatory Environment: The semiconductor industry is subject to various international regulations that can impact companies like NVIDIA. Recent developments such as the U.S.-China trade war have posed risks for global supply chains and affected demand in key markets, including China's burgeoning PC market. Additionally, increasing scrutiny of technology products and potential antitrust investigations may lead to regulatory constraints on NVIDIA's future growth initiatives.\\n\\n4. Market Conditions: The overall health of the global economy can influence demand for consumer electronics and data center infrastructure. In a robust economic climate, strong sales in gaming and professional visualization are likely to benefit NVIDIA. However, during economic downturns, companies may face reduced spending on technology upgrades or new hardware purchases that could impact semiconductor demand and subsequently affect the company's revenue generation.\\n\\n5. Investment in R&D: A key growth driver for NVIDIA is its heavy investment in research and development (R&D). The company has been allocating a substantial portion of its revenues to foster innovation, develop new technologies, and enhance existing products. This dedication to R&D can provide the company with an edge over competitors by enabling it to anticipate future market demands and launch breakthrough solutions in emerging technology areas such as AI, 5G networks, and virtual reality (VR).\\n\\n6. Potential Threats: Possible threats include increased competition from both established players looking to penetrate the GPU space, like Intel's revamped Xe architecture, and new entrants offering innovative technologies or lower-cost solutions that could undercut NVIDIA’s market positioning in certain segments. Additionally, fluctuations in demand for semiconductor components due to economic cycles or disruptions caused by geopolitical events like trade wars can pose risks to the company's performance and profitability.\\n\\nIn conclusion, NVIDIA Corporation shows potential for continued growth given its strong leadership within critical markets such as gaming, data centers, and professional visualization. However, it must carefully monitor evolving competitive dynamics, technological breakthroughs from rival players, and regulatory changes that could influence the company's future performance in these areas.\""
      ]
     },
     "execution_count": 72,
     "metadata": {},
     "output_type": "execute_result"
    }
   ],
   "source": [
    "result"
   ]
  },
  {
   "cell_type": "code",
   "execution_count": null,
   "id": "8c2b9be0-d737-4695-a4d1-6f4b4c14735e",
   "metadata": {},
   "outputs": [],
   "source": []
  }
 ],
 "metadata": {
  "kernelspec": {
   "display_name": "Python 3 (ipykernel)",
   "language": "python",
   "name": "python3"
  },
  "language_info": {
   "codemirror_mode": {
    "name": "ipython",
    "version": 3
   },
   "file_extension": ".py",
   "mimetype": "text/x-python",
   "name": "python",
   "nbconvert_exporter": "python",
   "pygments_lexer": "ipython3",
   "version": "3.10.12"
  }
 },
 "nbformat": 4,
 "nbformat_minor": 5
}
