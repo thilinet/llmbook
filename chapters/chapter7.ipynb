{
 "cells": [
  {
   "cell_type": "markdown",
   "id": "501fa4ed-9d0a-4760-89f9-71ecc2123d9d",
   "metadata": {},
   "source": [
    "# Chapter 7 Performance Effiecient Fine Tuning"
   ]
  },
  {
   "cell_type": "code",
   "execution_count": null,
   "id": "0643f7c6-5979-4b89-a6a5-e8cf81598b25",
   "metadata": {},
   "outputs": [],
   "source": []
  }
 ],
 "metadata": {
  "kernelspec": {
   "display_name": "Python 3 (ipykernel)",
   "language": "python",
   "name": "python3"
  },
  "language_info": {
   "codemirror_mode": {
    "name": "ipython",
    "version": 3
   },
   "file_extension": ".py",
   "mimetype": "text/x-python",
   "name": "python",
   "nbconvert_exporter": "python",
   "pygments_lexer": "ipython3",
   "version": "3.10.12"
  }
 },
 "nbformat": 4,
 "nbformat_minor": 5
}
