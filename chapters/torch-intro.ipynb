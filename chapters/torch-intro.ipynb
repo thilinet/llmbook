{
 "cells": [
  {
   "cell_type": "markdown",
   "id": "0f0c9d8e",
   "metadata": {},
   "source": [
    "# Deep Learning in Pytorch\n",
    "\n",
    "\n",
    "This is not a complete pytorch reference. It is a quick introduction of core topics in Pytorch aimed to help the readers understand the code presented in later chapters. For more information regarding pytorch visit, https://pytorch.org/tutorials/index.html\n",
    "\n",
    "Training a simple neural network\n",
    "\n",
    "nn.Module\n",
    "\n",
    "Network as a graph\n",
    "\n",
    "Tensors\n",
    "\n",
    "Autograd\n",
    "\n",
    "Gradient Descent in pytorch\n",
    "\n",
    "Adapting nn.Module\n",
    "\n",
    "Saving and Loading models\n",
    "\n",
    "Model precisions\n",
    "\n"
   ]
  },
  {
   "cell_type": "markdown",
   "id": "91b4bf4f",
   "metadata": {},
   "source": [
    "## Module torch\n",
    "\n",
    "\n",
    "torch is the parent module. Various sub-modules under torch are responsible for storing and manipulating data, and methods for serialization of data and functions to operate on data.\n",
    "\n",
    "1. torch.Tensor class helps to create, initialize, store and operate on multidimensional data.\n",
    "2. torch.cuda package helps to work with cuda accelerator\n",
    "3. torch.nn package has all the necessary tools to create a computation graph. Neural networks are internally processed as computation graphs in torch.\n",
    "4. torch.nn.functional provides stateless functional approach to several algorithms.\n",
    "5. torch.autograd is the package implenting automatic differentiation. A key algebraic technique needed for enabling learning in neural networks\n",
    "\n"
   ]
  },
  {
   "cell_type": "markdown",
   "id": "09813e94",
   "metadata": {},
   "source": [
    "## torch.Tensor\n",
    "\n",
    "Tensors are abstractions to store multi dimensional matrices and perform operations on them on a diverse set of devices. You can look more about Tensors in https://pytorch.org/docs/stable/tensors.html\n",
    "\n",
    "Let us see some tensors in action."
   ]
  },
  {
   "cell_type": "code",
   "execution_count": 31,
   "id": "ea5436af",
   "metadata": {},
   "outputs": [],
   "source": [
    "import torch\n",
    "\n",
    "torch.manual_seed(10)\n",
    "\n",
    "# Equation of straight line\n",
    "x = torch.rand(size=(5,2), dtype=torch.float32)\n",
    "\n",
    "w = torch.ones(size=(1,2), requires_grad=True)\n",
    "b = torch.zeros(size=(1,), requires_grad=True)\n",
    "y = x @ w.T + b"
   ]
  },
  {
   "cell_type": "markdown",
   "id": "9689fe7b",
   "metadata": {},
   "source": [
    "In the above examples we have used torch package to create a couple of tensors. The tensors x,w and b were created using torch module and finally we represent a straight line equation. Look at the size parameter, wi can be cretedth that we define the rank of our tensors. Matrices of various ranks can be created.\n",
    "\n",
    "Compared to numpy multidimensional arrays, tensor can be executed in a variety of devices including cpu, gpu and other accelerators."
   ]
  },
  {
   "cell_type": "code",
   "execution_count": 32,
   "id": "18d665f1",
   "metadata": {},
   "outputs": [
    {
     "name": "stdout",
     "output_type": "stream",
     "text": [
      "Is cuda device avaiable? True\n",
      "# cuda devices : 1\n",
      "device name NVIDIA GeForce GTX 1650\n",
      "_CudaDeviceProperties(name='NVIDIA GeForce GTX 1650', major=7, minor=5, total_memory=3896MB, multi_processor_count=16)\n"
     ]
    }
   ],
   "source": [
    "is_cuda = torch.cuda.is_available()\n",
    "print(f\"Is cuda device avaiable? {is_cuda}\")\n",
    "\n",
    "def print_cuda_details():\n",
    "    print(f\"# cuda devices : {torch.cuda.device_count()}\") \n",
    "    current_device = torch.cuda.current_device()\n",
    "    print(f\"device name {torch.cuda.get_device_name(current_device)}\")\n",
    "    print(torch.cuda.get_device_properties(current_device))\n",
    "\n",
    "print_cuda_details() if is_cuda else print(f\"No cuda device\")\n",
    "\n"
   ]
  },
  {
   "cell_type": "markdown",
   "id": "ddec760e",
   "metadata": {},
   "source": [
    "Let us show how we can move tensors to cuda and perform tensor operations in cuda instead of cpu."
   ]
  },
  {
   "cell_type": "code",
   "execution_count": 33,
   "id": "1a3ce130",
   "metadata": {},
   "outputs": [],
   "source": [
    "x = torch.rand(size=(5,2), dtype=torch.float32)\n",
    "\n",
    "w = torch.ones(size=(1,2), requires_grad=True)\n",
    "b = torch.zeros(size=(1,), requires_grad=True)\n",
    "\n",
    "x = x.to(\"cuda:0\")\n",
    "w = w.to(\"cuda\")\n",
    "b = b.to(\"cuda\")\n",
    "\n",
    "y = x @ w.T + b"
   ]
  },
  {
   "cell_type": "markdown",
   "id": "bb9a09c8",
   "metadata": {},
   "source": [
    "With \"to\" operator, we moved tensor to cuda. In our case we have a single cuda gpu. If your machine is equipped with multiple cuda, you can access it through indexing as shown in above example for tensor x"
   ]
  },
  {
   "cell_type": "code",
   "execution_count": 34,
   "id": "6dffb1f7",
   "metadata": {},
   "outputs": [
    {
     "data": {
      "text/plain": [
       "tensor([[0.9919],\n",
       "        [1.2613],\n",
       "        [1.6808],\n",
       "        [0.7747],\n",
       "        [1.1117]], device='cuda:0', grad_fn=<AddBackward0>)"
      ]
     },
     "execution_count": 34,
     "metadata": {},
     "output_type": "execute_result"
    }
   ],
   "source": [
    "y"
   ]
  },
  {
   "cell_type": "markdown",
   "id": "bbc97beb",
   "metadata": {},
   "source": [
    "The tensor y is by default stored in cuda device. You can get it back to cpu using the same to operator."
   ]
  },
  {
   "cell_type": "code",
   "execution_count": 35,
   "id": "5a391cc4",
   "metadata": {},
   "outputs": [
    {
     "data": {
      "text/plain": [
       "tensor([[0.9919],\n",
       "        [1.2613],\n",
       "        [1.6808],\n",
       "        [0.7747],\n",
       "        [1.1117]], grad_fn=<ToCopyBackward0>)"
      ]
     },
     "execution_count": 35,
     "metadata": {},
     "output_type": "execute_result"
    }
   ],
   "source": [
    "y = y.to(\"cpu\")\n",
    "y"
   ]
  },
  {
   "cell_type": "markdown",
   "id": "ec3c0fc0",
   "metadata": {},
   "source": [
    "More about torch.cuda is avaiable in https://pytorch.org/docs/stable/cuda.html"
   ]
  },
  {
   "cell_type": "markdown",
   "id": "4750f9dd",
   "metadata": {},
   "source": [
    "scalar values from tensor can be accessed using item function."
   ]
  },
  {
   "cell_type": "code",
   "execution_count": 36,
   "id": "f93ec7bd",
   "metadata": {},
   "outputs": [
    {
     "data": {
      "text/plain": [
       "0.0"
      ]
     },
     "execution_count": 36,
     "metadata": {},
     "output_type": "execute_result"
    }
   ],
   "source": [
    "b.item()"
   ]
  },
  {
   "cell_type": "markdown",
   "id": "75f27ba4",
   "metadata": {},
   "source": [
    "matrices can be extracted as list using tolist function."
   ]
  },
  {
   "cell_type": "code",
   "execution_count": 27,
   "id": "4577afa3",
   "metadata": {},
   "outputs": [
    {
     "data": {
      "text/plain": [
       "[[0.5096296668052673],\n",
       " [0.11876606941223145],\n",
       " [0.0450817346572876],\n",
       " [0.1702507734298706],\n",
       " [0.7501509785652161]]"
      ]
     },
     "execution_count": 27,
     "metadata": {},
     "output_type": "execute_result"
    }
   ],
   "source": [
    "y.tolist()"
   ]
  },
  {
   "cell_type": "markdown",
   "id": "ce00eb75",
   "metadata": {},
   "source": [
    "### Operating the tensors\n",
    "\n",
    "Our typical operation on tensors include\n",
    "\n",
    "1. slicing\n",
    "2. boolean indexing\n",
    "3. reshaping\n",
    "\n",
    "Let us start with example of slicing. We can use the standard [start: end :step] format."
   ]
  },
  {
   "cell_type": "code",
   "execution_count": 53,
   "id": "c32ebe90",
   "metadata": {},
   "outputs": [],
   "source": [
    "a = torch.rand(size=(3,16,16,3))"
   ]
  },
  {
   "cell_type": "markdown",
   "id": "1229f160",
   "metadata": {},
   "source": [
    "torch module provides various functions to create random variables.\n",
    "\n",
    "1. torch.rand to create multidimensional matrix determined by size variable from a uniform distribution\n",
    "2. torch.randn to create random values from a normal distribution with unit variance and zero mean\n",
    "3. torch.normal to select values from a normal distribution with user provided mean and variance\n",
    "4. torch.multinomial to give random values based on  weights from a multinomial distribution.\n",
    "\n",
    "Having created a random tensor, let us perform slicing operation."
   ]
  },
  {
   "cell_type": "code",
   "execution_count": 54,
   "id": "0163eb83",
   "metadata": {},
   "outputs": [
    {
     "name": "stdout",
     "output_type": "stream",
     "text": [
      "torch.Size([2, 4, 3])\n"
     ]
    }
   ],
   "source": [
    "print(a[0,0:2,1:5,:].shape)"
   ]
  },
  {
   "cell_type": "code",
   "execution_count": 51,
   "id": "1215b24c",
   "metadata": {},
   "outputs": [
    {
     "name": "stdout",
     "output_type": "stream",
     "text": [
      "torch.Size([1, 3, 3])\n",
      "torch.Size([3, 3])\n",
      "torch.Size([1, 3, 3])\n"
     ]
    }
   ],
   "source": [
    "a = torch.randn(size=(1,3,3))\n",
    "print(a.shape)\n",
    "b = a.squeeze()\n",
    "print(b.shape)\n",
    "c = b.unsqueeze(dim=0)\n",
    "print(c.shape)"
   ]
  },
  {
   "cell_type": "markdown",
   "id": "2a0975c7",
   "metadata": {},
   "source": [
    "Let us look at boolean indexing"
   ]
  },
  {
   "cell_type": "code",
   "execution_count": 62,
   "id": "b79e9bcb",
   "metadata": {},
   "outputs": [
    {
     "data": {
      "text/plain": [
       "tensor([0.9666, 0.9939, 0.9287, 0.9112, 0.9003, 0.9968, 0.9772, 0.9262, 0.9104,\n",
       "        0.9575, 0.9709, 0.9256, 0.9535, 0.9496, 0.9133, 0.9071, 0.9259, 0.9948,\n",
       "        0.9274, 0.9342, 0.9290, 0.9277, 0.9894, 0.9399, 0.9021, 0.9980, 0.9693,\n",
       "        0.9102, 0.9963, 0.9548, 0.9724, 0.9627, 0.9901, 0.9139, 0.9454, 0.9298,\n",
       "        0.9930, 0.9462, 0.9945, 0.9488, 0.9639, 0.9131, 0.9389, 0.9993, 0.9526,\n",
       "        0.9729, 0.9321, 0.9715, 0.9785, 0.9895, 0.9925, 0.9437, 0.9578, 0.9959,\n",
       "        0.9946, 0.9553, 0.9327, 0.9150, 0.9898, 0.9355, 0.9760, 0.9033, 0.9599,\n",
       "        0.9242, 0.9487, 0.9960, 0.9286, 0.9085, 0.9200, 0.9321, 0.9488, 0.9604,\n",
       "        0.9448, 0.9522, 0.9985, 0.9187, 0.9824, 0.9272, 0.9393, 0.9488, 0.9037,\n",
       "        0.9924, 0.9069, 0.9903, 0.9523, 0.9872, 0.9898, 0.9659, 0.9230, 0.9349,\n",
       "        0.9486, 0.9914, 0.9916, 0.9529, 0.9122, 0.9085, 0.9415, 0.9552, 0.9550,\n",
       "        0.9378, 0.9104, 0.9851, 0.9449, 0.9216, 0.9815, 0.9840, 0.9911, 0.9710,\n",
       "        0.9451, 0.9717, 0.9380, 0.9639, 0.9200, 0.9183, 0.9016, 0.9619, 0.9374,\n",
       "        0.9028, 0.9318, 0.9093, 0.9973, 0.9983, 0.9545, 0.9646, 0.9930, 0.9645,\n",
       "        0.9383, 0.9912, 0.9406, 0.9957, 0.9378, 0.9414, 0.9136, 0.9733, 0.9739,\n",
       "        0.9526, 0.9877, 0.9974, 0.9785, 0.9829, 0.9595, 0.9112, 0.9023, 0.9560,\n",
       "        0.9935, 0.9573, 0.9795, 0.9381, 0.9325, 0.9482, 0.9137, 0.9856, 0.9234,\n",
       "        0.9035, 0.9367, 0.9479, 0.9925, 0.9800, 0.9712, 0.9223, 0.9302, 0.9120,\n",
       "        0.9546, 0.9170, 0.9576, 0.9218, 0.9242, 0.9831, 0.9686, 0.9491, 0.9269,\n",
       "        0.9351, 0.9511, 0.9180, 0.9579, 0.9962, 0.9052, 0.9806, 0.9216, 0.9177,\n",
       "        0.9531, 0.9987, 0.9801, 0.9698, 0.9266, 0.9647, 0.9570, 0.9013, 0.9302,\n",
       "        0.9475, 0.9721, 0.9356, 0.9929, 0.9141, 0.9897, 0.9547, 0.9758, 0.9886,\n",
       "        0.9455, 0.9139, 0.9892, 0.9781, 0.9118, 0.9431, 0.9510, 0.9912, 0.9475,\n",
       "        0.9038, 0.9210, 0.9500, 0.9533, 0.9447, 0.9272, 0.9184, 0.9281, 0.9407,\n",
       "        0.9366, 0.9503, 0.9282, 0.9052, 0.9321, 0.9753, 0.9269, 0.9204, 0.9517,\n",
       "        0.9748, 0.9154, 0.9529, 0.9669, 0.9827, 0.9002, 0.9660])"
      ]
     },
     "execution_count": 62,
     "metadata": {},
     "output_type": "execute_result"
    }
   ],
   "source": [
    "a[a > .9]"
   ]
  },
  {
   "cell_type": "code",
   "execution_count": null,
   "id": "5fc096eb",
   "metadata": {},
   "outputs": [],
   "source": [
    "Finally transformation"
   ]
  },
  {
   "cell_type": "code",
   "execution_count": 64,
   "id": "51c31c6f",
   "metadata": {},
   "outputs": [
    {
     "name": "stdout",
     "output_type": "stream",
     "text": [
      "torch.Size([3, 16, 16, 3])\n",
      "torch.Size([3, 16, 48])\n"
     ]
    }
   ],
   "source": [
    "print(a.shape)\n",
    "b = a.view(3,16,48)\n",
    "\n",
    "print(b.shape)"
   ]
  },
  {
   "cell_type": "markdown",
   "id": "ab40b6b3-5e27-4c46-848c-b78f3bb98e86",
   "metadata": {},
   "source": [
    "## Torch matrix multiplication"
   ]
  },
  {
   "cell_type": "code",
   "execution_count": 8,
   "id": "a01a96ce-6514-4894-b3e6-202a35ecf711",
   "metadata": {},
   "outputs": [
    {
     "data": {
      "text/plain": [
       "tensor([[ 2.6104,  0.5499,  0.3142],\n",
       "        [-8.3252, -0.6339, -1.1291]])"
      ]
     },
     "execution_count": 8,
     "metadata": {},
     "output_type": "execute_result"
    }
   ],
   "source": [
    "import torch\n",
    "\n",
    "\"\"\"\n",
    "torch.mm - performs a matrix multiplication without broadcasting\n",
    "It expects two 2D tensors so n × m * m × p = n×p\n",
    "i.e. only for matrices and not higher dimensional tensors.\n",
    "\n",
    "https://pytorch.org/docs/stable/generated/torch.mm.html:\n",
    "\"\"\"\n",
    "\n",
    "a = torch.randn(2,5)\n",
    "b = torch.randn(3,5)\n",
    "\n",
    "torch.mm(a,b.T)"
   ]
  },
  {
   "cell_type": "code",
   "execution_count": 9,
   "id": "43254515-b32f-4c15-afd6-0573cfc19481",
   "metadata": {},
   "outputs": [
    {
     "ename": "RuntimeError",
     "evalue": "The size of tensor a (2) must match the size of tensor b (3) at non-singleton dimension 0",
     "output_type": "error",
     "traceback": [
      "\u001b[0;31m---------------------------------------------------------------------------\u001b[0m",
      "\u001b[0;31mRuntimeError\u001b[0m                              Traceback (most recent call last)",
      "Cell \u001b[0;32mIn[9], line 8\u001b[0m\n\u001b[1;32m      1\u001b[0m \u001b[38;5;124;03m\"\"\"\u001b[39;00m\n\u001b[1;32m      2\u001b[0m \u001b[38;5;124;03mtorch.mul - performs a elementwise multiplication with broadcasting - (Tensor) by (Tensor or Number)\u001b[39;00m\n\u001b[1;32m      3\u001b[0m \u001b[38;5;124;03mtorch.mul does not perform a matrix multiplication. It broadcasts two tensors and performs an elementwise multiplication. \u001b[39;00m\n\u001b[1;32m      4\u001b[0m \n\u001b[1;32m      5\u001b[0m \u001b[38;5;124;03mhttps://pytorch.org/docs/stable/generated/torch.mul.html\u001b[39;00m\n\u001b[1;32m      6\u001b[0m \u001b[38;5;124;03m\"\"\"\u001b[39;00m\n\u001b[0;32m----> 8\u001b[0m \u001b[43mtorch\u001b[49m\u001b[38;5;241;43m.\u001b[39;49m\u001b[43mmul\u001b[49m\u001b[43m(\u001b[49m\u001b[43ma\u001b[49m\u001b[43m,\u001b[49m\u001b[43m \u001b[49m\u001b[43mb\u001b[49m\u001b[43m)\u001b[49m\n",
      "\u001b[0;31mRuntimeError\u001b[0m: The size of tensor a (2) must match the size of tensor b (3) at non-singleton dimension 0"
     ]
    }
   ],
   "source": [
    "\"\"\"\n",
    "torch.mul - performs a elementwise multiplication with broadcasting - (Tensor) by (Tensor or Number)\n",
    "torch.mul does not perform a matrix multiplication. It broadcasts two tensors and performs \n",
    "an elementwise multiplication. \n",
    "\n",
    "https://pytorch.org/docs/stable/generated/torch.mul.html\n",
    "\"\"\"\n",
    "\n",
    "torch.mul(a, b)"
   ]
  },
  {
   "cell_type": "code",
   "execution_count": 10,
   "id": "5b99f26c-25ab-4053-a372-4e43e048c214",
   "metadata": {},
   "outputs": [
    {
     "data": {
      "text/plain": [
       "tensor([[ 0.0039,  0.9935,  0.0681,  0.0039,  0.8029],\n",
       "        [-1.0538, -0.4971, -2.3967,  1.0259,  0.3220]])"
      ]
     },
     "execution_count": 10,
     "metadata": {},
     "output_type": "execute_result"
    }
   ],
   "source": [
    "a = torch.randn(2,5)\n",
    "b = torch.randn(2,5)\n",
    "\n",
    "torch.mul(a, b)"
   ]
  },
  {
   "cell_type": "code",
   "execution_count": null,
   "id": "ee176f4d-8bf4-4094-a98e-2117b5e6465f",
   "metadata": {},
   "outputs": [],
   "source": [
    "\n",
    "    torch.matmul\n",
    "\n",
    "It is better to check out the official documentation https://pytorch.org/docs/stable/generated/torch.matmul.html as it uses different modes depending on the input tensors. It may perform dot product, matrix-matrix product or batched matrix products with broadcasting.\n",
    "\n",
    "As for your question regarding product of:\n",
    "\n",
    "tensor1 = torch.randn(10, 3, 4)\n",
    "tensor2 = torch.randn(4)\n",
    "\n",
    "it is a batched version of a product. please check this simple example for understanding:\n",
    "\n",
    "import torch\n",
    "\n",
    "# 3x1x3\n",
    "a = torch.FloatTensor([[[1, 2, 3]], [[3, 4, 5]], [[6, 7, 8]]])\n",
    "# 3\n",
    "b = torch.FloatTensor([1, 10, 100])\n",
    "r1 = torch.matmul(a, b)\n",
    "\n",
    "r2 = torch.stack((\n",
    "    torch.matmul(a[0], b),\n",
    "    torch.matmul(a[1], b),\n",
    "    torch.matmul(a[2], b),\n",
    "))\n",
    "assert torch.allclose(r1, r2)\n",
    "\n",
    "So it can be seen as a multiple operations stacked together across batch dimension.\n",
    "\n",
    "Also it may be useful to read about broadcasting:\n",
    "\n",
    "https://pytorch.org/docs/stable/notes/broadcasting.html#broadcasting-semantics"
   ]
  },
  {
   "cell_type": "code",
   "execution_count": null,
   "id": "f98ea01a-aa80-48eb-8277-e4d64f334f93",
   "metadata": {},
   "outputs": [],
   "source": [
    " want to add the introduction of torch.bmm, which is batch matrix-matrix product.\n",
    "\n",
    "torch.bmm(input,mat2,*,out=None)→Tensor\n",
    "\n",
    "shape: (b×n×m),(b×m×p) -->(b×n×p)\n",
    "\n",
    "Performs a batch matrix-matrix product of matrices stored in input and mat2. input and mat2 must be 3-D tensors each containing the same number of matrices.\n",
    "\n",
    "This function does not broadcast.\n",
    "\n",
    "Example\n",
    "\n",
    "input = torch.randn(10, 3, 4)\n",
    "mat2 = torch.randn(10, 4, 5)\n",
    "res = torch.bmm(input, mat2)\n",
    "res.size()  # torch.Size([10, 3, 5])\n"
   ]
  },
  {
   "cell_type": "markdown",
   "id": "78df84f8",
   "metadata": {},
   "source": [
    "view vs reshape - reshape copies the tensor."
   ]
  },
  {
   "cell_type": "markdown",
   "id": "62d9c135",
   "metadata": {},
   "source": [
    "## Module nn\n",
    "\n",
    "Module nn has all necessary components to work with neural networks. "
   ]
  },
  {
   "cell_type": "markdown",
   "id": "bf49fda7",
   "metadata": {},
   "source": [
    "Though we can continue to work in tensors, Pytorch provides further abstractions useful for us to write neural networks. The first one is the container abstraction provided through nn.Module class. We build our neural networks by subclassing fromt his class. We will see the details of the class in the example. There are other abstractions to help us concentrate on building the networks without bothering about writing more code. An example is nn.Linear, which encapsulates two tensors, a weight and bias tensor. By default it makes the following activities,\n",
    "\n",
    "1. create two tensors, a weight and bias tensor\n",
    "2. enable both the tensors to be differentiable and hence store the gradients, more about this as we autograd.\n",
    "3. initialize these tensors appropriately"
   ]
  },
  {
   "cell_type": "code",
   "execution_count": 70,
   "id": "6c3fc3b0",
   "metadata": {},
   "outputs": [
    {
     "data": {
      "text/plain": [
       "tensor([[0.3782],\n",
       "        [0.2405],\n",
       "        [0.4688],\n",
       "        [0.4590],\n",
       "        [0.2189]], grad_fn=<AddmmBackward0>)"
      ]
     },
     "execution_count": 70,
     "metadata": {},
     "output_type": "execute_result"
    }
   ],
   "source": [
    "import torch.nn as nn\n",
    "\n",
    "\n",
    "w_b = nn.Linear(2,1,bias=True)\n",
    "y = w_b(x)\n",
    "y"
   ]
  },
  {
   "cell_type": "code",
   "execution_count": 69,
   "id": "5c6de3ee",
   "metadata": {},
   "outputs": [
    {
     "name": "stdout",
     "output_type": "stream",
     "text": [
      "Parameter containing:\n",
      "tensor([[ 0.3023, -0.0789]], requires_grad=True)\n",
      "Parameter containing:\n",
      "tensor([-0.4926], requires_grad=True)\n"
     ]
    }
   ],
   "source": [
    "for param in w_b.parameters():\n",
    "    print(param)"
   ]
  },
  {
   "cell_type": "code",
   "execution_count": 146,
   "id": "1459aa18",
   "metadata": {},
   "outputs": [],
   "source": [
    "from dataclasses import dataclass, field\n",
    "from typing import List\n",
    "import torch\n",
    "import torch.nn as nn\n",
    "\n",
    "@dataclass\n",
    "class NetworkConfiguration:\n",
    "    # input dimension dimension\n",
    "    input_dim: int = 2\n",
    "    # Number of hidden layers\n",
    "    num_hidden_layers: int  = 2\n",
    "    # Nodes per layer\n",
    "    nodes_per_layer: List = field(default_factory = lambda :[4,2])\n",
    "    # Number of output classes\n",
    "    no_classes: int = 2\n",
    "    # class labels\n",
    "    class_labels: List = field(default_factory = lambda: [\"zero\",\"one\"])\n",
    "    # add bias\n",
    "    bias: bool = True\n",
    "    # add dropout\n",
    "    dropout: float = 0.0\n",
    "        \n",
    "        \n",
    "class LayerBlock(nn.Module):\n",
    "    \n",
    "    def __init__(self, in_nodes, out_nodes, bias=True):\n",
    "        super().__init__()\n",
    "        self.linear = nn.Linear(in_nodes, out_nodes, bias=bias)\n",
    "        self.activation = nn.ReLU()\n",
    "    \n",
    "    def forward(self,x):\n",
    "        return self.activation(self.linear(x))\n",
    "        \n",
    "class SimpleNetwork(nn.Module):\n",
    "    \"\"\" \"\"\"\n",
    "    def __init__(self, config):\n",
    "        super().__init__()\n",
    "        \n",
    "        self.hidden_blocks = nn.ModuleList()\n",
    "        \n",
    "        prev_dim = config.input_dim\n",
    "        for layer, no_nodes in enumerate(config.nodes_per_layer):\n",
    "            layer_module = LayerBlock(prev_dim, no_nodes,bias=config.bias)\n",
    "            prev_dim = no_nodes\n",
    "            self.hidden_blocks.append(layer_module)\n",
    "            \n",
    "        self.output_block  = nn.Linear(config.nodes_per_layer[-1]\n",
    "                                      ,config.no_classes,bias=config.bias)\n",
    "        \n",
    "        self.dropout = nn.Dropout(config.dropout)\n",
    "    \n",
    "    def forward(self, x):\n",
    "        \n",
    "        for hidden_layer in self.hidden_blocks:\n",
    "            x = hidden_layer(x)\n",
    "        \n",
    "        x = self.dropout(x)\n",
    "        logits = self.output_block(x)\n",
    "        \n",
    "        return logits\n",
    "        \n",
    "        "
   ]
  },
  {
   "cell_type": "code",
   "execution_count": 147,
   "id": "8fa01559",
   "metadata": {},
   "outputs": [
    {
     "data": {
      "text/plain": [
       "SimpleNetwork(\n",
       "  (hidden_blocks): ModuleList(\n",
       "    (0): LayerBlock(\n",
       "      (linear): Linear(in_features=2, out_features=4, bias=True)\n",
       "      (activation): ReLU()\n",
       "    )\n",
       "    (1): LayerBlock(\n",
       "      (linear): Linear(in_features=4, out_features=2, bias=True)\n",
       "      (activation): ReLU()\n",
       "    )\n",
       "  )\n",
       "  (output_block): Linear(in_features=2, out_features=2, bias=True)\n",
       "  (dropout): Dropout(p=0.0, inplace=False)\n",
       ")"
      ]
     },
     "execution_count": 147,
     "metadata": {},
     "output_type": "execute_result"
    }
   ],
   "source": [
    "config = NetworkConfiguration()\n",
    "nnet = SimpleNetwork(config)\n",
    "nnet"
   ]
  },
  {
   "cell_type": "code",
   "execution_count": 148,
   "id": "67103c2d",
   "metadata": {},
   "outputs": [
    {
     "data": {
      "text/plain": [
       "ModuleList(\n",
       "  (0): LayerBlock(\n",
       "    (linear): Linear(in_features=2, out_features=4, bias=True)\n",
       "    (activation): ReLU()\n",
       "  )\n",
       "  (1): LayerBlock(\n",
       "    (linear): Linear(in_features=4, out_features=2, bias=True)\n",
       "    (activation): ReLU()\n",
       "  )\n",
       ")"
      ]
     },
     "execution_count": 148,
     "metadata": {},
     "output_type": "execute_result"
    }
   ],
   "source": [
    "nnet.hidden_blocks"
   ]
  },
  {
   "cell_type": "code",
   "execution_count": 149,
   "id": "9bd60394",
   "metadata": {},
   "outputs": [
    {
     "data": {
      "text/plain": [
       "LayerBlock(\n",
       "  (linear): Linear(in_features=2, out_features=4, bias=True)\n",
       "  (activation): ReLU()\n",
       ")"
      ]
     },
     "execution_count": 149,
     "metadata": {},
     "output_type": "execute_result"
    }
   ],
   "source": [
    "nnet.hidden_blocks[0]"
   ]
  },
  {
   "cell_type": "code",
   "execution_count": 150,
   "id": "b7b6bf92",
   "metadata": {},
   "outputs": [
    {
     "name": "stdout",
     "output_type": "stream",
     "text": [
      "Parameter containing:\n",
      "tensor([[ 0.6417, -0.6400],\n",
      "        [ 0.3953, -0.5940],\n",
      "        [-0.0742,  0.1448],\n",
      "        [-0.1763,  0.4132]], requires_grad=True)\n",
      "Parameter containing:\n",
      "tensor([-0.4343,  0.5412, -0.5278,  0.1901], requires_grad=True)\n"
     ]
    }
   ],
   "source": [
    "for parameter in nnet.hidden_blocks[0].linear.parameters():\n",
    "    print(parameter)"
   ]
  },
  {
   "cell_type": "markdown",
   "id": "f80ebe4c",
   "metadata": {},
   "source": [
    "## create some dataset for training\n",
    "\n",
    "torch.utils.data"
   ]
  },
  {
   "cell_type": "code",
   "execution_count": 203,
   "id": "085a3552",
   "metadata": {},
   "outputs": [],
   "source": [
    "from torch.utils.data import Dataset\n",
    "\n",
    "X = torch.rand((1000,3))\n",
    "y = torch.rand((1000,2))\n",
    "y = y / y.sum(dim=-1).unsqueeze(-1)\n",
    "\n",
    "y = torch.where(y > 0.5, 1.0, 0.0)\n",
    "data =(X, y)\n",
    "\n",
    "class SampleDataset(Dataset):\n",
    "    \"\"\"\"\"\"\n",
    "    def __init__(self, data):\n",
    "        self.features, self.labels = data\n",
    "    def __len__(self):\n",
    "        return len(self.features)\n",
    "    def __getitem__(self, idx):\n",
    "        return (self.features[idx], self.labels[idx])\n",
    "    \n"
   ]
  },
  {
   "cell_type": "code",
   "execution_count": 204,
   "id": "cd274ae6",
   "metadata": {},
   "outputs": [
    {
     "name": "stdout",
     "output_type": "stream",
     "text": [
      "No of rows 1000\n",
      "tensor([0.5114, 0.9511, 0.9501])\n",
      "tensor([0., 1.])\n"
     ]
    }
   ],
   "source": [
    "train_dataset = SampleDataset(data)\n",
    "\n",
    "print(f\"No of rows {len(train_dataset)}\")\n",
    "\n",
    "for record in train_dataset:\n",
    "    X, y = record\n",
    "    print(X)\n",
    "    print(y)\n",
    "    break"
   ]
  },
  {
   "cell_type": "code",
   "execution_count": 205,
   "id": "9b41405a",
   "metadata": {},
   "outputs": [],
   "source": [
    "from torch.utils.data import DataLoader\n",
    "train_loader = DataLoader(\n",
    "            dataset = train_dataset\n",
    "          , batch_size=4\n",
    "          , shuffle=True\n",
    ")"
   ]
  },
  {
   "cell_type": "code",
   "execution_count": 206,
   "id": "d39bf838",
   "metadata": {},
   "outputs": [
    {
     "data": {
      "text/plain": [
       "tensor([[0., 1.],\n",
       "        [0., 1.],\n",
       "        [1., 0.],\n",
       "        [1., 0.]])"
      ]
     },
     "execution_count": 206,
     "metadata": {},
     "output_type": "execute_result"
    }
   ],
   "source": [
    "for batch in train_loader:\n",
    "    features, labels = batch\n",
    "    break\n",
    "\n",
    "labels"
   ]
  },
  {
   "cell_type": "markdown",
   "id": "c430d6ff",
   "metadata": {},
   "source": [
    "## autograd"
   ]
  },
  {
   "cell_type": "code",
   "execution_count": 250,
   "id": "2ed39330",
   "metadata": {},
   "outputs": [
    {
     "data": {
      "text/plain": [
       "SimpleNetwork(\n",
       "  (hidden_blocks): ModuleList(\n",
       "    (0): LayerBlock(\n",
       "      (linear): Linear(in_features=3, out_features=2, bias=True)\n",
       "      (activation): ReLU()\n",
       "    )\n",
       "  )\n",
       "  (output_block): Linear(in_features=2, out_features=2, bias=True)\n",
       "  (dropout): Dropout(p=0.0, inplace=False)\n",
       ")"
      ]
     },
     "execution_count": 250,
     "metadata": {},
     "output_type": "execute_result"
    }
   ],
   "source": [
    "config = NetworkConfiguration()\n",
    "config.input_dim = 3\n",
    "config.nodes_per_layer =[2]\n",
    "\n",
    "nnet = SimpleNetwork(config)\n",
    "nnet"
   ]
  },
  {
   "cell_type": "code",
   "execution_count": 251,
   "id": "ce4c4f94",
   "metadata": {},
   "outputs": [
    {
     "name": "stdout",
     "output_type": "stream",
     "text": [
      "hidden_layer_1\n",
      "***************\n",
      " weight Parameter containing:\n",
      "tensor([[-0.4819,  0.5635,  0.5381],\n",
      "        [ 0.5233,  0.1282,  0.2866]], requires_grad=True) \n",
      " grad None\n",
      " bias Parameter containing:\n",
      "tensor([-0.1749,  0.2694], requires_grad=True) \n",
      " grad None\n",
      "output_layer\n",
      "***************\n",
      " weight Parameter containing:\n",
      "tensor([[ 0.4393,  0.1543],\n",
      "        [-0.6021,  0.6939]], requires_grad=True) \n",
      " grad None\n",
      " bias Parameter containing:\n",
      "tensor([ 0.5130, -0.6584], requires_grad=True) \n",
      " grad None\n"
     ]
    }
   ],
   "source": [
    "\n",
    "def print_parameters(nnet):\n",
    "\n",
    "    parameters_dict = {\n",
    "    \n",
    "    \"hidden_layer_1\":nnet.hidden_blocks[0].linear.parameters()\n",
    "   ,\"output_layer\": nnet.output_block.parameters()\n",
    " \n",
    "    }\n",
    "\n",
    "    for layer_name, layer_parameters in parameters_dict.items():\n",
    "        print(layer_name + \"\\n\" + \"*\" * 15)\n",
    "        idx = 0\n",
    "        for parameter in layer_parameters:\n",
    "            if idx == 0:\n",
    "                print(f\" weight {parameter} \\n grad {parameter.grad}\")\n",
    "            else:\n",
    "                print(f\" bias {parameter} \\n grad {parameter.grad}\")\n",
    "            idx+=1\n",
    "                \n",
    "            \n",
    "\n",
    "            \n",
    "print_parameters(nnet)"
   ]
  },
  {
   "cell_type": "code",
   "execution_count": 252,
   "id": "0ec8df77",
   "metadata": {},
   "outputs": [],
   "source": [
    "nnet.train()\n",
    "logits = nnet(features)"
   ]
  },
  {
   "cell_type": "code",
   "execution_count": 253,
   "id": "dd9279b8",
   "metadata": {},
   "outputs": [
    {
     "data": {
      "text/plain": [
       "tensor([[ 0.6165, -0.1930],\n",
       "        [ 0.6222, -0.3448],\n",
       "        [ 0.6310, -0.1277],\n",
       "        [ 0.6005, -0.2650]], grad_fn=<AddmmBackward0>)"
      ]
     },
     "execution_count": 253,
     "metadata": {},
     "output_type": "execute_result"
    }
   ],
   "source": [
    "logits"
   ]
  },
  {
   "cell_type": "code",
   "execution_count": 254,
   "id": "e0d6049a",
   "metadata": {},
   "outputs": [
    {
     "data": {
      "text/plain": [
       "tensor(0.7299, grad_fn=<BinaryCrossEntropyWithLogitsBackward0>)"
      ]
     },
     "execution_count": 254,
     "metadata": {},
     "output_type": "execute_result"
    }
   ],
   "source": [
    "import torch.nn.functional as F\n",
    "\n",
    "criterion = torch.nn.BCEWithLogitsLoss()\n",
    "loss = criterion(logits, labels)\n",
    "loss"
   ]
  },
  {
   "cell_type": "code",
   "execution_count": 260,
   "id": "360dc26c",
   "metadata": {},
   "outputs": [
    {
     "data": {
      "text/plain": [
       "0.7299188375473022"
      ]
     },
     "execution_count": 260,
     "metadata": {},
     "output_type": "execute_result"
    }
   ],
   "source": [
    "loss.item()"
   ]
  },
  {
   "cell_type": "markdown",
   "id": "5199ef02",
   "metadata": {},
   "source": [
    "* Chain rule*\n",
    "d_loss/dw_output * dw_output/dw_hidden = d_loss / dw_hidden"
   ]
  },
  {
   "cell_type": "code",
   "execution_count": null,
   "id": "65733182",
   "metadata": {},
   "outputs": [],
   "source": []
  },
  {
   "cell_type": "code",
   "execution_count": 255,
   "id": "69098b51",
   "metadata": {},
   "outputs": [],
   "source": [
    "loss.backward()"
   ]
  },
  {
   "cell_type": "code",
   "execution_count": 256,
   "id": "441b8b1c",
   "metadata": {},
   "outputs": [
    {
     "name": "stdout",
     "output_type": "stream",
     "text": [
      "hidden_layer_1\n",
      "***************\n",
      " weight Parameter containing:\n",
      "tensor([[-0.4819,  0.5635,  0.5381],\n",
      "        [ 0.5233,  0.1282,  0.2866]], requires_grad=True) \n",
      " grad tensor([[ 0.0203,  0.0398,  0.0126],\n",
      "        [ 0.0046, -0.0039,  0.0025]])\n",
      " bias Parameter containing:\n",
      "tensor([-0.1749,  0.2694], requires_grad=True) \n",
      " grad tensor([ 0.0798, -0.0085])\n",
      "output_layer\n",
      "***************\n",
      " weight Parameter containing:\n",
      "tensor([[ 0.4393,  0.1543],\n",
      "        [-0.6021,  0.6939]], requires_grad=True) \n",
      " grad tensor([[ 0.0056,  0.0378],\n",
      "        [-0.0050, -0.0079]])\n",
      " bias Parameter containing:\n",
      "tensor([ 0.5130, -0.6584], requires_grad=True) \n",
      " grad tensor([ 0.0748, -0.0289])\n"
     ]
    }
   ],
   "source": [
    "print_parameters(nnet)"
   ]
  },
  {
   "cell_type": "code",
   "execution_count": 257,
   "id": "fc0425fa",
   "metadata": {},
   "outputs": [
    {
     "name": "stdout",
     "output_type": "stream",
     "text": [
      "hidden_layer_1\n",
      "***************\n",
      " weight Parameter containing:\n",
      "tensor([[-0.5225,  0.4839,  0.5129],\n",
      "        [ 0.5140,  0.1360,  0.2816]], requires_grad=True) \n",
      " grad tensor([[ 0.0203,  0.0398,  0.0126],\n",
      "        [ 0.0046, -0.0039,  0.0025]])\n",
      " bias Parameter containing:\n",
      "tensor([-0.3345,  0.2864], requires_grad=True) \n",
      " grad tensor([ 0.0798, -0.0085])\n",
      "output_layer\n",
      "***************\n",
      " weight Parameter containing:\n",
      "tensor([[ 0.4281,  0.0787],\n",
      "        [-0.5920,  0.7097]], requires_grad=True) \n",
      " grad tensor([[ 0.0056,  0.0378],\n",
      "        [-0.0050, -0.0079]])\n",
      " bias Parameter containing:\n",
      "tensor([ 0.3634, -0.6006], requires_grad=True) \n",
      " grad tensor([ 0.0748, -0.0289])\n"
     ]
    }
   ],
   "source": [
    "optimizer = torch.optim.SGD(nnet.parameters(), lr=2.)\n",
    "optimizer.step()\n",
    "print_parameters(nnet)"
   ]
  },
  {
   "cell_type": "markdown",
   "id": "71bf8a8e",
   "metadata": {},
   "source": [
    "## Gradient calculation and application"
   ]
  },
  {
   "cell_type": "markdown",
   "id": "e65cb0fd",
   "metadata": {},
   "source": [
    "*Initial Model*\n",
    "\n",
    "    output_layer\n",
    "    ***************\n",
    "     weight Parameter containing:\n",
    "    tensor([[ 0.4393,  0.1543],\n",
    "            [-0.6021,  0.6939]], requires_grad=True) \n",
    "     grad None\n",
    "     bias Parameter containing:\n",
    "    tensor([ 0.5130, -0.6584], requires_grad=True) \n",
    "     grad None\n",
    "\n",
    "\n",
    "*After gradient calculation - loss.backward()*\n",
    "\n",
    "    output_layer\n",
    "    ***************\n",
    "     weight Parameter containing:\n",
    "    tensor([[ 0.4393,  0.1543],\n",
    "            [-0.6021,  0.6939]], requires_grad=True) \n",
    "     grad tensor([[ 0.0056,  0.0378],\n",
    "            [-0.0050, -0.0079]])\n",
    "     bias Parameter containing:\n",
    "    tensor([ 0.5130, -0.6584], requires_grad=True) \n",
    "     grad tensor([ 0.0748, -0.0289])\n",
    "\n",
    "\n",
    "*After gradient update - optimizer.step()*\n",
    "\n",
    "    output_layer\n",
    "    ***************\n",
    "     weight Parameter containing:\n",
    "    tensor([[ 0.4281,  0.0787],\n",
    "            [-0.5920,  0.7097]], requires_grad=True) \n",
    "     grad tensor([[ 0.0056,  0.0378],\n",
    "            [-0.0050, -0.0079]])\n",
    "     bias Parameter containing:\n",
    "    tensor([ 0.3634, -0.6006], requires_grad=True) \n",
    "     grad tensor([ 0.0748, -0.0289])\n"
   ]
  },
  {
   "cell_type": "code",
   "execution_count": 275,
   "id": "2e4839ad",
   "metadata": {},
   "outputs": [
    {
     "name": "stderr",
     "output_type": "stream",
     "text": [
      "\n",
      "100%|████████████████████████████████████████████████████████████████████████████████████████████████████████████████████████████████████████████████████████████████| 25000/25000 [01:27<00:00, 285.15it/s]\u001b[A\n",
      "\n",
      "  0%|▌                                                                                                                                                                  | 91/25000 [00:00<00:27, 907.75it/s]\u001b[A\n",
      "  1%|█▎                                                                                                                                                               | 205/25000 [00:00<00:23, 1040.41it/s]\u001b[A\n",
      "  1%|██                                                                                                                                                               | 321/25000 [00:00<00:22, 1094.53it/s]\u001b[A\n",
      "  2%|██▊                                                                                                                                                              | 436/25000 [00:00<00:22, 1114.07it/s]\u001b[A"
     ]
    },
    {
     "name": "stdout",
     "output_type": "stream",
     "text": [
      "Epoch 0 training loss 0.6954176425933838 Average loss 0.6960111048414034\n"
     ]
    },
    {
     "name": "stderr",
     "output_type": "stream",
     "text": [
      "\n",
      "  2%|███▌                                                                                                                                                             | 548/25000 [00:00<00:21, 1115.05it/s]\u001b[A\n",
      "  3%|████▎                                                                                                                                                            | 663/25000 [00:00<00:21, 1125.67it/s]\u001b[A\n",
      "  3%|█████                                                                                                                                                            | 779/25000 [00:00<00:21, 1134.22it/s]\u001b[A\n",
      "  4%|█████▊                                                                                                                                                           | 895/25000 [00:00<00:21, 1141.33it/s]\u001b[A\n",
      "  4%|██████▍                                                                                                                                                         | 1014/25000 [00:00<00:20, 1155.11it/s]\u001b[A\n",
      "  5%|███████▏                                                                                                                                                        | 1130/25000 [00:01<00:20, 1140.34it/s]\u001b[A\n",
      "  5%|███████▉                                                                                                                                                        | 1245/25000 [00:01<00:21, 1125.10it/s]\u001b[A\n",
      "  5%|████████▋                                                                                                                                                       | 1358/25000 [00:01<00:21, 1119.57it/s]\u001b[A\n",
      "  6%|█████████▍                                                                                                                                                      | 1474/25000 [00:01<00:20, 1129.89it/s]\u001b[A\n",
      "  6%|██████████▏                                                                                                                                                     | 1597/25000 [00:01<00:20, 1157.13it/s]\u001b[A\n",
      "  7%|███████████                                                                                                                                                     | 1719/25000 [00:01<00:19, 1173.96it/s]\u001b[A\n",
      "  7%|███████████▊                                                                                                                                                    | 1837/25000 [00:01<00:19, 1174.16it/s]\u001b[A\n",
      "  8%|████████████▌                                                                                                                                                   | 1957/25000 [00:01<00:19, 1180.75it/s]\u001b[A\n",
      "  8%|█████████████▎                                                                                                                                                  | 2076/25000 [00:01<00:19, 1177.86it/s]\u001b[A\n",
      "  9%|██████████████                                                                                                                                                  | 2197/25000 [00:01<00:19, 1187.32it/s]\u001b[A\n",
      "  9%|██████████████▊                                                                                                                                                 | 2316/25000 [00:02<00:19, 1176.63it/s]\u001b[A\n",
      " 10%|███████████████▋                                                                                                                                                | 2442/25000 [00:02<00:18, 1198.82it/s]\u001b[A\n",
      " 10%|████████████████▍                                                                                                                                               | 2562/25000 [00:02<00:18, 1190.28it/s]\u001b[A\n",
      " 11%|█████████████████▏                                                                                                                                              | 2682/25000 [00:02<00:18, 1183.45it/s]\u001b[A\n",
      " 11%|█████████████████▉                                                                                                                                              | 2801/25000 [00:02<00:18, 1185.39it/s]\u001b[A\n",
      " 12%|██████████████████▋                                                                                                                                             | 2922/25000 [00:02<00:18, 1191.62it/s]\u001b[A\n",
      " 12%|███████████████████▍                                                                                                                                            | 3042/25000 [00:02<00:18, 1186.60it/s]\u001b[A\n",
      " 13%|████████████████████▏                                                                                                                                           | 3161/25000 [00:02<00:18, 1182.10it/s]\u001b[A\n",
      " 13%|████████████████████▉                                                                                                                                           | 3280/25000 [00:02<00:18, 1177.03it/s]\u001b[A\n",
      " 14%|█████████████████████▊                                                                                                                                          | 3401/25000 [00:02<00:18, 1184.49it/s]\u001b[A\n",
      " 14%|██████████████████████▌                                                                                                                                         | 3520/25000 [00:03<00:18, 1161.08it/s]\u001b[A\n",
      " 15%|███████████████████████▎                                                                                                                                        | 3637/25000 [00:03<00:18, 1144.27it/s]\u001b[A\n",
      " 15%|████████████████████████                                                                                                                                        | 3758/25000 [00:03<00:18, 1162.27it/s]\u001b[A\n",
      " 16%|████████████████████████▊                                                                                                                                       | 3877/25000 [00:03<00:18, 1170.09it/s]\u001b[A\n",
      " 16%|█████████████████████████▌                                                                                                                                      | 4002/25000 [00:03<00:17, 1191.79it/s]\u001b[A\n",
      " 16%|██████████████████████████▍                                                                                                                                     | 4122/25000 [00:03<00:17, 1185.84it/s]\u001b[A\n",
      " 17%|███████████████████████████▏                                                                                                                                    | 4241/25000 [00:03<00:17, 1184.36it/s]\u001b[A\n",
      " 17%|███████████████████████████▉                                                                                                                                    | 4360/25000 [00:03<00:17, 1184.81it/s]\u001b[A\n",
      " 18%|████████████████████████████▋                                                                                                                                   | 4483/25000 [00:03<00:17, 1196.93it/s]\u001b[A\n",
      " 18%|█████████████████████████████▍                                                                                                                                  | 4604/25000 [00:03<00:16, 1200.06it/s]\u001b[A\n",
      " 19%|██████████████████████████████▏                                                                                                                                 | 4725/25000 [00:04<00:16, 1196.33it/s]\u001b[A\n",
      " 19%|███████████████████████████████                                                                                                                                 | 4845/25000 [00:04<00:16, 1196.52it/s]\u001b[A\n",
      " 20%|███████████████████████████████▊                                                                                                                                | 4967/25000 [00:04<00:16, 1203.02it/s]\u001b[A\n",
      " 20%|████████████████████████████████▌                                                                                                                               | 5088/25000 [00:04<00:17, 1167.04it/s]\u001b[A\n",
      " 21%|█████████████████████████████████▎                                                                                                                              | 5205/25000 [00:04<00:17, 1138.90it/s]\u001b[A\n",
      " 21%|██████████████████████████████████                                                                                                                              | 5323/25000 [00:04<00:17, 1150.48it/s]\u001b[A\n",
      " 22%|██████████████████████████████████▊                                                                                                                             | 5442/25000 [00:04<00:16, 1160.84it/s]\u001b[A\n",
      " 22%|███████████████████████████████████▌                                                                                                                            | 5559/25000 [00:04<00:16, 1154.79it/s]\u001b[A\n",
      " 23%|████████████████████████████████████▎                                                                                                                           | 5675/25000 [00:04<00:16, 1149.31it/s]\u001b[A\n",
      " 23%|█████████████████████████████████████                                                                                                                           | 5791/25000 [00:04<00:16, 1140.21it/s]\u001b[A\n",
      " 24%|█████████████████████████████████████▊                                                                                                                          | 5907/25000 [00:05<00:16, 1145.01it/s]\u001b[A\n",
      " 24%|██████████████████████████████████████▌                                                                                                                         | 6022/25000 [00:05<00:16, 1143.90it/s]\u001b[A\n",
      " 25%|███████████████████████████████████████▎                                                                                                                        | 6138/25000 [00:05<00:16, 1147.56it/s]\u001b[A\n",
      " 25%|████████████████████████████████████████                                                                                                                        | 6259/25000 [00:05<00:16, 1163.38it/s]\u001b[A\n",
      " 26%|████████████████████████████████████████▊                                                                                                                       | 6382/25000 [00:05<00:15, 1182.41it/s]\u001b[A\n",
      " 26%|█████████████████████████████████████████▋                                                                                                                      | 6507/25000 [00:05<00:15, 1201.44it/s]\u001b[A\n",
      " 27%|██████████████████████████████████████████▍                                                                                                                     | 6632/25000 [00:05<00:15, 1214.38it/s]\u001b[A\n",
      " 27%|███████████████████████████████████████████▏                                                                                                                    | 6754/25000 [00:05<00:15, 1207.96it/s]\u001b[A\n",
      " 28%|████████████████████████████████████████████                                                                                                                    | 6875/25000 [00:05<00:15, 1206.21it/s]\u001b[A\n",
      " 28%|████████████████████████████████████████████▊                                                                                                                   | 6996/25000 [00:05<00:15, 1199.04it/s]\u001b[A\n",
      " 28%|█████████████████████████████████████████████▌                                                                                                                  | 7116/25000 [00:06<00:14, 1195.23it/s]\u001b[A\n",
      " 29%|██████████████████████████████████████████████▎                                                                                                                 | 7238/25000 [00:06<00:14, 1202.59it/s]\u001b[A\n",
      " 29%|███████████████████████████████████████████████                                                                                                                 | 7359/25000 [00:06<00:14, 1196.60it/s]\u001b[A\n",
      " 30%|███████████████████████████████████████████████▉                                                                                                                | 7482/25000 [00:06<00:14, 1204.50it/s]\u001b[A\n",
      " 30%|████████████████████████████████████████████████▋                                                                                                               | 7603/25000 [00:06<00:14, 1183.08it/s]\u001b[A\n",
      " 31%|█████████████████████████████████████████████████▍                                                                                                              | 7722/25000 [00:06<00:14, 1184.77it/s]\u001b[A\n",
      " 31%|██████████████████████████████████████████████████▏                                                                                                             | 7843/25000 [00:06<00:14, 1190.77it/s]\u001b[A\n",
      " 32%|██████████████████████████████████████████████████▉                                                                                                             | 7963/25000 [00:06<00:14, 1190.64it/s]\u001b[A\n",
      " 32%|███████████████████████████████████████████████████▋                                                                                                            | 8083/25000 [00:06<00:14, 1185.08it/s]\u001b[A\n",
      " 33%|████████████████████████████████████████████████████▍                                                                                                           | 8202/25000 [00:07<00:15, 1078.55it/s]\u001b[A\n",
      " 33%|█████████████████████████████████████████████████████▎                                                                                                          | 8322/25000 [00:07<00:15, 1110.81it/s]\u001b[A\n",
      " 34%|██████████████████████████████████████████████████████                                                                                                          | 8444/25000 [00:07<00:14, 1141.42it/s]\u001b[A\n",
      " 34%|██████████████████████████████████████████████████████▊                                                                                                         | 8560/25000 [00:07<00:14, 1129.87it/s]\u001b[A\n",
      " 35%|███████████████████████████████████████████████████████▌                                                                                                        | 8679/25000 [00:07<00:14, 1144.69it/s]\u001b[A\n",
      " 35%|████████████████████████████████████████████████████████▎                                                                                                       | 8795/25000 [00:07<00:14, 1109.77it/s]\u001b[A\n",
      " 36%|█████████████████████████████████████████████████████████                                                                                                       | 8915/25000 [00:07<00:14, 1134.41it/s]\u001b[A\n",
      " 36%|█████████████████████████████████████████████████████████▊                                                                                                      | 9030/25000 [00:07<00:14, 1137.43it/s]\u001b[A\n",
      " 37%|██████████████████████████████████████████████████████████▌                                                                                                     | 9146/25000 [00:07<00:13, 1143.10it/s]\u001b[A\n",
      " 37%|███████████████████████████████████████████████████████████▎                                                                                                    | 9261/25000 [00:07<00:13, 1129.21it/s]\u001b[A\n",
      " 38%|████████████████████████████████████████████████████████████                                                                                                    | 9375/25000 [00:08<00:13, 1126.66it/s]\u001b[A\n",
      " 38%|████████████████████████████████████████████████████████████▋                                                                                                   | 9491/25000 [00:08<00:13, 1135.52it/s]\u001b[A\n",
      " 38%|█████████████████████████████████████████████████████████████▌                                                                                                  | 9610/25000 [00:08<00:13, 1149.65it/s]\u001b[A\n",
      " 39%|██████████████████████████████████████████████████████████████▎                                                                                                 | 9735/25000 [00:08<00:12, 1177.56it/s]\u001b[A\n"
     ]
    },
    {
     "name": "stderr",
     "output_type": "stream",
     "text": [
      " 39%|███████████████████████████████████████████████████████████████                                                                                                 | 9857/25000 [00:08<00:12, 1189.12it/s]\u001b[A\n",
      " 40%|███████████████████████████████████████████████████████████████▊                                                                                                | 9976/25000 [00:08<00:12, 1188.11it/s]\u001b[A\n",
      " 40%|████████████████████████████████████████████████████████████████▏                                                                                              | 10095/25000 [00:08<00:12, 1188.26it/s]\u001b[A\n",
      " 41%|████████████████████████████████████████████████████████████████▉                                                                                              | 10215/25000 [00:08<00:12, 1191.60it/s]\u001b[A\n",
      " 41%|█████████████████████████████████████████████████████████████████▋                                                                                             | 10335/25000 [00:08<00:12, 1182.26it/s]\u001b[A\n",
      " 42%|██████████████████████████████████████████████████████████████████▍                                                                                            | 10454/25000 [00:08<00:12, 1176.28it/s]\u001b[A\n",
      " 42%|███████████████████████████████████████████████████████████████████▏                                                                                           | 10572/25000 [00:09<00:12, 1169.91it/s]\u001b[A\n",
      " 43%|███████████████████████████████████████████████████████████████████▉                                                                                           | 10690/25000 [00:09<00:12, 1169.31it/s]\u001b[A\n",
      " 43%|████████████████████████████████████████████████████████████████████▋                                                                                          | 10807/25000 [00:09<00:12, 1158.74it/s]\u001b[A\n",
      " 44%|█████████████████████████████████████████████████████████████████████▍                                                                                         | 10923/25000 [00:09<00:12, 1147.92it/s]\u001b[A\n",
      " 44%|██████████████████████████████████████████████████████████████████████▏                                                                                        | 11038/25000 [00:09<00:12, 1147.41it/s]\u001b[A\n",
      " 45%|██████████████████████████████████████████████████████████████████████▉                                                                                        | 11153/25000 [00:09<00:12, 1136.53it/s]\u001b[A\n",
      " 45%|███████████████████████████████████████████████████████████████████████▋                                                                                       | 11267/25000 [00:09<00:12, 1117.41it/s]\u001b[A\n",
      " 46%|████████████████████████████████████████████████████████████████████████▍                                                                                      | 11384/25000 [00:09<00:12, 1130.88it/s]\u001b[A\n",
      " 46%|█████████████████████████████████████████████████████████████████████████▏                                                                                     | 11498/25000 [00:09<00:12, 1124.08it/s]\u001b[A\n",
      " 46%|█████████████████████████████████████████████████████████████████████████▊                                                                                     | 11614/25000 [00:09<00:11, 1132.70it/s]\u001b[A\n",
      " 47%|██████████████████████████████████████████████████████████████████████████▌                                                                                    | 11730/25000 [00:10<00:11, 1140.41it/s]\u001b[A\n",
      " 47%|███████████████████████████████████████████████████████████████████████████▎                                                                                   | 11846/25000 [00:10<00:11, 1145.99it/s]\u001b[A\n",
      " 48%|████████████████████████████████████████████████████████████████████████████                                                                                   | 11965/25000 [00:10<00:11, 1158.82it/s]\u001b[A\n",
      " 48%|████████████████████████████████████████████████████████████████████████████▊                                                                                  | 12085/25000 [00:10<00:11, 1168.54it/s]\u001b[A\n",
      " 49%|█████████████████████████████████████████████████████████████████████████████▌                                                                                 | 12203/25000 [00:10<00:10, 1170.63it/s]\u001b[A\n",
      " 49%|██████████████████████████████████████████████████████████████████████████████▎                                                                                | 12321/25000 [00:10<00:10, 1165.10it/s]\u001b[A\n",
      " 50%|███████████████████████████████████████████████████████████████████████████████                                                                                | 12438/25000 [00:10<00:11, 1117.57it/s]\u001b[A\n",
      " 50%|███████████████████████████████████████████████████████████████████████████████▊                                                                               | 12551/25000 [00:10<00:11, 1117.43it/s]\u001b[A\n",
      " 51%|████████████████████████████████████████████████████████████████████████████████▌                                                                              | 12664/25000 [00:10<00:11, 1098.91it/s]\u001b[A\n",
      " 51%|█████████████████████████████████████████████████████████████████████████████████▏                                                                             | 12775/25000 [00:11<00:11, 1096.51it/s]\u001b[A\n",
      " 52%|█████████████████████████████████████████████████████████████████████████████████▉                                                                             | 12893/25000 [00:11<00:10, 1118.61it/s]\u001b[A"
     ]
    },
    {
     "name": "stdout",
     "output_type": "stream",
     "text": [
      "Epoch 50 training loss 0.6910924911499023 Average loss 0.6960111047477383\n"
     ]
    },
    {
     "name": "stderr",
     "output_type": "stream",
     "text": [
      "\n",
      " 52%|██████████████████████████████████████████████████████████████████████████████████▋                                                                            | 13007/25000 [00:11<00:10, 1124.28it/s]\u001b[A\n",
      " 52%|███████████████████████████████████████████████████████████████████████████████████▍                                                                           | 13120/25000 [00:11<00:10, 1100.99it/s]\u001b[A\n",
      " 53%|████████████████████████████████████████████████████████████████████████████████████▏                                                                          | 13244/25000 [00:11<00:10, 1139.81it/s]\u001b[A\n",
      " 53%|█████████████████████████████████████████████████████████████████████████████████████                                                                          | 13365/25000 [00:11<00:10, 1160.18it/s]\u001b[A\n",
      " 54%|█████████████████████████████████████████████████████████████████████████████████████▊                                                                         | 13484/25000 [00:11<00:09, 1166.50it/s]\u001b[A\n",
      " 54%|██████████████████████████████████████████████████████████████████████████████████████▌                                                                        | 13603/25000 [00:11<00:09, 1172.87it/s]\u001b[A\n",
      " 55%|███████████████████████████████████████████████████████████████████████████████████████▎                                                                       | 13721/25000 [00:11<00:09, 1173.22it/s]\u001b[A\n",
      " 55%|████████████████████████████████████████████████████████████████████████████████████████                                                                       | 13839/25000 [00:11<00:09, 1165.31it/s]\u001b[A\n",
      " 56%|████████████████████████████████████████████████████████████████████████████████████████▊                                                                      | 13960/25000 [00:12<00:09, 1178.45it/s]\u001b[A\n",
      " 56%|█████████████████████████████████████████████████████████████████████████████████████████▌                                                                     | 14079/25000 [00:12<00:09, 1181.51it/s]\u001b[A\n",
      " 57%|██████████████████████████████████████████████████████████████████████████████████████████▎                                                                    | 14200/25000 [00:12<00:09, 1187.40it/s]\u001b[A\n",
      " 57%|███████████████████████████████████████████████████████████████████████████████████████████                                                                    | 14319/25000 [00:12<00:09, 1177.62it/s]\u001b[A\n",
      " 58%|███████████████████████████████████████████████████████████████████████████████████████████▊                                                                   | 14437/25000 [00:12<00:09, 1163.08it/s]\u001b[A\n",
      " 58%|████████████████████████████████████████████████████████████████████████████████████████████▌                                                                  | 14554/25000 [00:12<00:09, 1124.49it/s]\u001b[A\n",
      " 59%|█████████████████████████████████████████████████████████████████████████████████████████████▎                                                                 | 14675/25000 [00:12<00:09, 1146.94it/s]\u001b[A\n",
      " 59%|██████████████████████████████████████████████████████████████████████████████████████████████                                                                 | 14790/25000 [00:12<00:08, 1140.18it/s]\u001b[A\n",
      " 60%|██████████████████████████████████████████████████████████████████████████████████████████████▊                                                                | 14905/25000 [00:12<00:08, 1134.27it/s]\u001b[A\n",
      " 60%|███████████████████████████████████████████████████████████████████████████████████████████████▌                                                               | 15026/25000 [00:12<00:08, 1156.36it/s]\u001b[A\n",
      " 61%|████████████████████████████████████████████████████████████████████████████████████████████████▎                                                              | 15148/25000 [00:13<00:08, 1173.55it/s]\u001b[A\n",
      " 61%|█████████████████████████████████████████████████████████████████████████████████████████████████                                                              | 15269/25000 [00:13<00:08, 1182.33it/s]\u001b[A\n",
      " 62%|█████████████████████████████████████████████████████████████████████████████████████████████████▊                                                             | 15388/25000 [00:13<00:08, 1167.63it/s]\u001b[A\n",
      " 62%|██████████████████████████████████████████████████████████████████████████████████████████████████▋                                                            | 15509/25000 [00:13<00:08, 1178.33it/s]\u001b[A\n",
      " 63%|███████████████████████████████████████████████████████████████████████████████████████████████████▍                                                           | 15629/25000 [00:13<00:07, 1181.71it/s]\u001b[A\n",
      " 63%|████████████████████████████████████████████████████████████████████████████████████████████████████▏                                                          | 15748/25000 [00:13<00:07, 1178.74it/s]\u001b[A\n",
      " 63%|████████████████████████████████████████████████████████████████████████████████████████████████████▉                                                          | 15866/25000 [00:13<00:07, 1170.88it/s]\u001b[A\n",
      " 64%|█████████████████████████████████████████████████████████████████████████████████████████████████████▋                                                         | 15988/25000 [00:13<00:07, 1184.14it/s]\u001b[A\n",
      " 64%|██████████████████████████████████████████████████████████████████████████████████████████████████████▍                                                        | 16107/25000 [00:13<00:07, 1168.78it/s]\u001b[A\n",
      " 65%|███████████████████████████████████████████████████████████████████████████████████████████████████████▏                                                       | 16224/25000 [00:13<00:07, 1124.22it/s]\u001b[A\n",
      " 65%|███████████████████████████████████████████████████████████████████████████████████████████████████████▉                                                       | 16337/25000 [00:14<00:07, 1093.08it/s]\u001b[A\n",
      " 66%|████████████████████████████████████████████████████████████████████████████████████████████████████████▌                                                      | 16447/25000 [00:14<00:07, 1079.26it/s]\u001b[A\n",
      " 66%|█████████████████████████████████████████████████████████████████████████████████████████████████████████▎                                                     | 16558/25000 [00:14<00:07, 1085.67it/s]\u001b[A\n",
      " 67%|██████████████████████████████████████████████████████████████████████████████████████████████████████████                                                     | 16677/25000 [00:14<00:07, 1114.70it/s]\u001b[A\n",
      " 67%|██████████████████████████████████████████████████████████████████████████████████████████████████████████▊                                                    | 16789/25000 [00:14<00:07, 1110.18it/s]\u001b[A\n",
      " 68%|███████████████████████████████████████████████████████████████████████████████████████████████████████████▌                                                   | 16909/25000 [00:14<00:07, 1135.59it/s]\u001b[A\n",
      " 68%|████████████████████████████████████████████████████████████████████████████████████████████████████████████▎                                                  | 17025/25000 [00:14<00:06, 1139.75it/s]\u001b[A\n",
      " 69%|█████████████████████████████████████████████████████████████████████████████████████████████████████████████                                                  | 17142/25000 [00:14<00:06, 1146.21it/s]\u001b[A\n",
      " 69%|█████████████████████████████████████████████████████████████████████████████████████████████████████████████▊                                                 | 17258/25000 [00:14<00:06, 1149.21it/s]\u001b[A\n",
      " 69%|██████████████████████████████████████████████████████████████████████████████████████████████████████████████▍                                                | 17373/25000 [00:15<00:06, 1146.36it/s]\u001b[A\n",
      " 70%|███████████████████████████████████████████████████████████████████████████████████████████████████████████████▏                                               | 17488/25000 [00:15<00:06, 1140.59it/s]\u001b[A\n",
      " 70%|███████████████████████████████████████████████████████████████████████████████████████████████████████████████▉                                               | 17603/25000 [00:15<00:06, 1125.89it/s]\u001b[A\n",
      " 71%|████████████████████████████████████████████████████████████████████████████████████████████████████████████████▋                                              | 17716/25000 [00:15<00:06, 1123.29it/s]\u001b[A\n",
      " 71%|█████████████████████████████████████████████████████████████████████████████████████████████████████████████████▍                                             | 17835/25000 [00:15<00:06, 1142.33it/s]\u001b[A\n",
      " 72%|██████████████████████████████████████████████████████████████████████████████████████████████████████████████████▏                                            | 17953/25000 [00:15<00:06, 1153.18it/s]\u001b[A\n",
      " 72%|██████████████████████████████████████████████████████████████████████████████████████████████████████████████████▉                                            | 18073/25000 [00:15<00:05, 1165.58it/s]\u001b[A\n",
      " 73%|███████████████████████████████████████████████████████████████████████████████████████████████████████████████████▋                                           | 18190/25000 [00:15<00:06, 1121.85it/s]\u001b[A\n",
      " 73%|████████████████████████████████████████████████████████████████████████████████████████████████████████████████████▍                                          | 18303/25000 [00:15<00:06, 1102.47it/s]\u001b[A\n",
      " 74%|█████████████████████████████████████████████████████████████████████████████████████████████████████████████████████▊                                          | 18414/25000 [00:16<00:06, 948.19it/s]\u001b[A\n",
      " 74%|█████████████████████████████████████████████████████████████████████████████████████████████████████████████████████▊                                         | 18531/25000 [00:16<00:06, 1004.63it/s]\u001b[A\n",
      " 75%|██████████████████████████████████████████████████████████████████████████████████████████████████████████████████████▋                                        | 18653/25000 [00:16<00:05, 1062.76it/s]\u001b[A\n",
      " 75%|███████████████████████████████████████████████████████████████████████████████████████████████████████████████████████▍                                       | 18771/25000 [00:16<00:05, 1094.72it/s]\u001b[A\n",
      " 76%|████████████████████████████████████████████████████████████████████████████████████████████████████████████████████████▏                                      | 18896/25000 [00:16<00:05, 1137.19it/s]\u001b[A\n",
      " 76%|████████████████████████████████████████████████████████████████████████████████████████████████████████████████████████▉                                      | 19014/25000 [00:16<00:05, 1148.17it/s]\u001b[A\n",
      " 77%|█████████████████████████████████████████████████████████████████████████████████████████████████████████████████████████▋                                     | 19135/25000 [00:16<00:05, 1165.51it/s]\u001b[A\n",
      " 77%|██████████████████████████████████████████████████████████████████████████████████████████████████████████████████████████▍                                    | 19253/25000 [00:16<00:04, 1164.55it/s]\u001b[A\n",
      " 77%|███████████████████████████████████████████████████████████████████████████████████████████████████████████████████████████▏                                   | 19371/25000 [00:16<00:04, 1152.07it/s]\u001b[A\n",
      " 78%|███████████████████████████████████████████████████████████████████████████████████████████████████████████████████████████▉                                   | 19487/25000 [00:16<00:04, 1137.33it/s]\u001b[A\n",
      " 78%|████████████████████████████████████████████████████████████████████████████████████████████████████████████████████████████▋                                  | 19602/25000 [00:17<00:04, 1129.23it/s]\u001b[A\n",
      " 79%|█████████████████████████████████████████████████████████████████████████████████████████████████████████████████████████████▍                                 | 19716/25000 [00:17<00:04, 1124.61it/s]\u001b[A\n",
      " 79%|██████████████████████████████████████████████████████████████████████████████████████████████████████████████████████████████▏                                | 19832/25000 [00:17<00:04, 1133.60it/s]\u001b[A\n",
      " 80%|██████████████████████████████████████████████████████████████████████████████████████████████████████████████████████████████▉                                | 19949/25000 [00:17<00:04, 1142.11it/s]\u001b[A\n",
      " 80%|███████████████████████████████████████████████████████████████████████████████████████████████████████████████████████████████▌                               | 20064/25000 [00:17<00:04, 1139.67it/s]\u001b[A\n",
      " 81%|████████████████████████████████████████████████████████████████████████████████████████████████████████████████████████████████▎                              | 20179/25000 [00:17<00:04, 1126.88it/s]\u001b[A\n",
      " 81%|█████████████████████████████████████████████████████████████████████████████████████████████████████████████████████████████████                              | 20296/25000 [00:17<00:04, 1138.83it/s]\u001b[A\n",
      " 82%|█████████████████████████████████████████████████████████████████████████████████████████████████████████████████████████████████▊                             | 20416/25000 [00:17<00:03, 1155.91it/s]\u001b[A\n",
      " 82%|██████████████████████████████████████████████████████████████████████████████████████████████████████████████████████████████████▌                            | 20533/25000 [00:17<00:03, 1157.43it/s]\u001b[A\n",
      " 83%|███████████████████████████████████████████████████████████████████████████████████████████████████████████████████████████████████▎                           | 20649/25000 [00:17<00:03, 1108.58it/s]\u001b[A\n",
      " 83%|████████████████████████████████████████████████████████████████████████████████████████████████████████████████████████████████████                           | 20767/25000 [00:18<00:03, 1128.53it/s]\u001b[A\n",
      " 84%|████████████████████████████████████████████████████████████████████████████████████████████████████████████████████████████████████▊                          | 20885/25000 [00:18<00:03, 1141.75it/s]\u001b[A\n",
      " 84%|█████████████████████████████████████████████████████████████████████████████████████████████████████████████████████████████████████▌                         | 21000/25000 [00:18<00:03, 1140.78it/s]\u001b[A\n",
      " 84%|██████████████████████████████████████████████████████████████████████████████████████████████████████████████████████████████████████▎                        | 21120/25000 [00:18<00:03, 1154.62it/s]\u001b[A\n",
      " 85%|███████████████████████████████████████████████████████████████████████████████████████████████████████████████████████████████████████                        | 21236/25000 [00:18<00:03, 1148.20it/s]\u001b[A\n",
      " 85%|███████████████████████████████████████████████████████████████████████████████████████████████████████████████████████████████████████▊                       | 21351/25000 [00:18<00:03, 1131.03it/s]\u001b[A\n",
      " 86%|████████████████████████████████████████████████████████████████████████████████████████████████████████████████████████████████████████▌                      | 21465/25000 [00:18<00:03, 1126.84it/s]\u001b[A\n",
      " 86%|█████████████████████████████████████████████████████████████████████████████████████████████████████████████████████████████████████████▏                     | 21578/25000 [00:18<00:03, 1126.64it/s]\u001b[A\n",
      " 87%|█████████████████████████████████████████████████████████████████████████████████████████████████████████████████████████████████████████▉                     | 21693/25000 [00:18<00:02, 1132.63it/s]\u001b[A\n",
      " 87%|██████████████████████████████████████████████████████████████████████████████████████████████████████████████████████████████████████████▋                    | 21813/25000 [00:18<00:02, 1149.65it/s]\u001b[A\n",
      " 88%|███████████████████████████████████████████████████████████████████████████████████████████████████████████████████████████████████████████▌                   | 21934/25000 [00:19<00:02, 1167.55it/s]\u001b[A\n",
      " 88%|████████████████████████████████████████████████████████████████████████████████████████████████████████████████████████████████████████████▏                  | 22051/25000 [00:19<00:02, 1164.30it/s]\u001b[A\n"
     ]
    },
    {
     "name": "stderr",
     "output_type": "stream",
     "text": [
      " 89%|█████████████████████████████████████████████████████████████████████████████████████████████████████████████████████████████████████████████                  | 22172/25000 [00:19<00:02, 1176.78it/s]\u001b[A\n",
      " 89%|█████████████████████████████████████████████████████████████████████████████████████████████████████████████████████████████████████████████▊                 | 22291/25000 [00:19<00:02, 1180.16it/s]\u001b[A\n",
      " 90%|██████████████████████████████████████████████████████████████████████████████████████████████████████████████████████████████████████████████▌                | 22412/25000 [00:19<00:02, 1187.41it/s]\u001b[A\n",
      " 90%|███████████████████████████████████████████████████████████████████████████████████████████████████████████████████████████████████████████████▎               | 22531/25000 [00:19<00:02, 1159.54it/s]\u001b[A\n",
      " 91%|████████████████████████████████████████████████████████████████████████████████████████████████████████████████████████████████████████████████               | 22648/25000 [00:19<00:02, 1149.78it/s]\u001b[A\n",
      " 91%|████████████████████████████████████████████████████████████████████████████████████████████████████████████████████████████████████████████████▊              | 22764/25000 [00:19<00:01, 1143.37it/s]\u001b[A\n",
      " 92%|█████████████████████████████████████████████████████████████████████████████████████████████████████████████████████████████████████████████████▌             | 22879/25000 [00:19<00:01, 1122.04it/s]\u001b[A\n",
      " 92%|██████████████████████████████████████████████████████████████████████████████████████████████████████████████████████████████████████████████████▎            | 23001/25000 [00:19<00:01, 1148.05it/s]\u001b[A\n",
      " 92%|███████████████████████████████████████████████████████████████████████████████████████████████████████████████████████████████████████████████████            | 23117/25000 [00:20<00:01, 1149.96it/s]\u001b[A\n",
      " 93%|███████████████████████████████████████████████████████████████████████████████████████████████████████████████████████████████████████████████████▊           | 23235/25000 [00:20<00:01, 1156.15it/s]\u001b[A\n",
      " 93%|████████████████████████████████████████████████████████████████████████████████████████████████████████████████████████████████████████████████████▌          | 23357/25000 [00:20<00:01, 1173.38it/s]\u001b[A\n",
      " 94%|█████████████████████████████████████████████████████████████████████████████████████████████████████████████████████████████████████████████████████▎         | 23475/25000 [00:20<00:01, 1156.73it/s]\u001b[A\n",
      " 94%|██████████████████████████████████████████████████████████████████████████████████████████████████████████████████████████████████████████████████████         | 23591/25000 [00:20<00:01, 1142.77it/s]\u001b[A\n",
      " 95%|██████████████████████████████████████████████████████████████████████████████████████████████████████████████████████████████████████████████████████▊        | 23709/25000 [00:20<00:01, 1152.39it/s]\u001b[A\n",
      " 95%|███████████████████████████████████████████████████████████████████████████████████████████████████████████████████████████████████████████████████████▌       | 23827/25000 [00:20<00:01, 1157.21it/s]\u001b[A\n",
      " 96%|████████████████████████████████████████████████████████████████████████████████████████████████████████████████████████████████████████████████████████▎      | 23943/25000 [00:20<00:00, 1153.86it/s]\u001b[A\n",
      " 96%|█████████████████████████████████████████████████████████████████████████████████████████████████████████████████████████████████████████████████████████      | 24060/25000 [00:20<00:00, 1157.94it/s]\u001b[A\n",
      " 97%|█████████████████████████████████████████████████████████████████████████████████████████████████████████████████████████████████████████████████████████▊     | 24176/25000 [00:21<00:00, 1121.35it/s]\u001b[A\n",
      " 97%|██████████████████████████████████████████████████████████████████████████████████████████████████████████████████████████████████████████████████████████▍    | 24289/25000 [00:21<00:00, 1090.53it/s]\u001b[A\n",
      " 98%|███████████████████████████████████████████████████████████████████████████████████████████████████████████████████████████████████████████████████████████▏   | 24406/25000 [00:21<00:00, 1112.14it/s]\u001b[A\n",
      " 98%|███████████████████████████████████████████████████████████████████████████████████████████████████████████████████████████████████████████████████████████▉   | 24524/25000 [00:21<00:00, 1129.42it/s]\u001b[A\n",
      " 99%|████████████████████████████████████████████████████████████████████████████████████████████████████████████████████████████████████████████████████████████▋  | 24645/25000 [00:21<00:00, 1151.78it/s]\u001b[A\n",
      " 99%|█████████████████████████████████████████████████████████████████████████████████████████████████████████████████████████████████████████████████████████████▍ | 24761/25000 [00:21<00:00, 1142.89it/s]\u001b[A\n",
      "100%|██████████████████████████████████████████████████████████████████████████████████████████████████████████████████████████████████████████████████████████████▏| 24876/25000 [00:21<00:00, 1097.80it/s]\u001b[A\n",
      "100%|██████████████████████████████████████████████████████████████████████████████████████████████████████████████████████████████████████████████████████████████▉| 24992/25000 [00:21<00:00, 1114.76it/s]\u001b[A\n",
      "100%|███████████████████████████████████████████████████████████████████████████████████████████████████████████████████████████████████████████████████████████████| 25000/25000 [00:40<00:00, 1114.76it/s]\u001b[A"
     ]
    }
   ],
   "source": [
    "## Simple Training loop\n",
    "from tqdm import tqdm\n",
    "\n",
    "epochs = 100\n",
    "steps_per_epoch = len(train_loader)\n",
    "total_training_steps = epochs * steps_per_epoch\n",
    "device = \"cuda\"\n",
    "progress_bar = tqdm(range(total_training_steps))\n",
    "\n",
    "# model\n",
    "config = NetworkConfiguration()\n",
    "config.input_dim = 3\n",
    "config.nodes_per_layer =[2]\n",
    "\n",
    "model = SimpleNetwork(config)\n",
    "model = model.to(device)\n",
    "\n",
    "criterion = torch.nn.BCEWithLogitsLoss()\n",
    "optimizer = torch.optim.SGD(model.parameters())\n",
    "\n",
    "\n",
    "losses = []\n",
    "global_steps = 0\n",
    "\n",
    "\n",
    "model.train()\n",
    "for epoch in range(epochs):\n",
    "    running_loss = 0.\n",
    "    for batch in train_loader:\n",
    "        optimizer.zero_grad()\n",
    "        features,label = batch\n",
    "        features = features.to(device)\n",
    "        label = label.to(device)\n",
    "        logits = model(features)\n",
    "        loss = criterion(logits, label)\n",
    "        loss.backward()\n",
    "        \n",
    "        global_steps+=1\n",
    "        progress_bar.update(1)\n",
    "        running_loss+=loss.item()\n",
    "    \n",
    "    losses.append(running_loss / len(train_loader))\n",
    "    if epoch % 50 == 0:\n",
    "        avg_train_loss = sum(losses) / (len(losses) + 1e-9)\n",
    "        print(f\"Epoch {epoch} training loss {loss} Average loss {avg_train_loss}\")\n",
    "        \n",
    "        \n",
    "        \n",
    "        "
   ]
  },
  {
   "cell_type": "code",
   "execution_count": 276,
   "id": "ce68f883",
   "metadata": {},
   "outputs": [
    {
     "data": {
      "text/plain": [
       "[<matplotlib.lines.Line2D at 0x7624dc1f7b20>]"
      ]
     },
     "execution_count": 276,
     "metadata": {},
     "output_type": "execute_result"
    },
    {
     "data": {
      "image/png": "[encoded data removed]",
      "text/plain": [
       "<Figure size 432x288 with 1 Axes>"
      ]
     },
     "metadata": {
      "needs_background": "light"
     },
     "output_type": "display_data"
    }
   ],
   "source": [
    "import matplotlib.pyplot as plt\n",
    "\n",
    "plt.plot(range(epochs), losses,'-')"
   ]
  },
  {
   "cell_type": "code",
   "execution_count": 272,
   "id": "27976824",
   "metadata": {},
   "outputs": [
    {
     "data": {
      "text/plain": [
       "25000"
      ]
     },
     "execution_count": 272,
     "metadata": {},
     "output_type": "execute_result"
    }
   ],
   "source": [
    "len(losses)"
   ]
  },
  {
   "cell_type": "markdown",
   "id": "ca283c48",
   "metadata": {},
   "source": [
    "## Model parameters and state dict"
   ]
  },
  {
   "cell_type": "code",
   "execution_count": 292,
   "id": "96cdb873",
   "metadata": {},
   "outputs": [
    {
     "name": "stdout",
     "output_type": "stream",
     "text": [
      "hidden_blocks.0.linear.weight\n",
      "hidden_blocks.0.linear.bias\n",
      "output_block.weight\n",
      "output_block.bias\n"
     ]
    }
   ],
   "source": [
    "for name,parameter in model.named_parameters():\n",
    "    print(name)"
   ]
  },
  {
   "cell_type": "code",
   "execution_count": 293,
   "id": "9adc60f6",
   "metadata": {},
   "outputs": [
    {
     "data": {
      "text/plain": [
       "OrderedDict([('hidden_blocks.0.linear.weight',\n",
       "              tensor([[ 0.0695,  0.3702, -0.5255],\n",
       "                      [-0.5347, -0.4958, -0.2405]], device='cuda:0')),\n",
       "             ('hidden_blocks.0.linear.bias',\n",
       "              tensor([-0.1701, -0.0156], device='cuda:0')),\n",
       "             ('output_block.weight',\n",
       "              tensor([[ 0.5328,  0.5617],\n",
       "                      [-0.0759, -0.5888]], device='cuda:0')),\n",
       "             ('output_block.bias',\n",
       "              tensor([-0.0859, -0.1702], device='cuda:0'))])"
      ]
     },
     "execution_count": 293,
     "metadata": {},
     "output_type": "execute_result"
    }
   ],
   "source": [
    "model.state_dict()"
   ]
  },
  {
   "cell_type": "code",
   "execution_count": 294,
   "id": "aab56b64",
   "metadata": {},
   "outputs": [
    {
     "data": {
      "text/plain": [
       "OrderedDict([('hidden_blocks.0.linear.weight',\n",
       "              tensor([[ 0.1919, -0.1822,  0.1177],\n",
       "                      [ 0.3659,  0.2209, -0.4187]])),\n",
       "             ('hidden_blocks.0.linear.bias', tensor([0.3179, 0.4011])),\n",
       "             ('output_block.weight',\n",
       "              tensor([[ 0.4812,  0.0991],\n",
       "                      [-0.1189,  0.4465]])),\n",
       "             ('output_block.bias', tensor([-0.2478,  0.2862]))])"
      ]
     },
     "execution_count": 294,
     "metadata": {},
     "output_type": "execute_result"
    }
   ],
   "source": [
    "new_net = SimpleNetwork(config)\n",
    "new_net.state_dict()"
   ]
  },
  {
   "cell_type": "code",
   "execution_count": 295,
   "id": "c958f74d",
   "metadata": {},
   "outputs": [],
   "source": [
    "new_net.hidden_blocks[0].linear.weight = torch.nn.Parameter(model.state_dict()['hidden_blocks.0.linear.weight'])    "
   ]
  },
  {
   "cell_type": "code",
   "execution_count": 296,
   "id": "e3e1c8f5",
   "metadata": {},
   "outputs": [
    {
     "data": {
      "text/plain": [
       "OrderedDict([('hidden_blocks.0.linear.weight',\n",
       "              tensor([[ 0.0695,  0.3702, -0.5255],\n",
       "                      [-0.5347, -0.4958, -0.2405]], device='cuda:0')),\n",
       "             ('hidden_blocks.0.linear.bias', tensor([0.3179, 0.4011])),\n",
       "             ('output_block.weight',\n",
       "              tensor([[ 0.4812,  0.0991],\n",
       "                      [-0.1189,  0.4465]])),\n",
       "             ('output_block.bias', tensor([-0.2478,  0.2862]))])"
      ]
     },
     "execution_count": 296,
     "metadata": {},
     "output_type": "execute_result"
    }
   ],
   "source": [
    "new_net.state_dict()"
   ]
  },
  {
   "cell_type": "code",
   "execution_count": 302,
   "id": "f5fa29f3",
   "metadata": {},
   "outputs": [],
   "source": [
    "model.to(\"cpu\")\n",
    "save_path = \"../bin/test_model.pt\"\n",
    "torch.save(model.state_dict(), save_path)"
   ]
  },
  {
   "cell_type": "code",
   "execution_count": 303,
   "id": "dc3c55b6",
   "metadata": {},
   "outputs": [
    {
     "data": {
      "text/plain": [
       "<All keys matched successfully>"
      ]
     },
     "execution_count": 303,
     "metadata": {},
     "output_type": "execute_result"
    }
   ],
   "source": [
    "loaded_model = SimpleNetwork(config)\n",
    "loaded_model.to(\"cpu\")\n",
    "loaded_model.load_state_dict(torch.load(save_path, weights_only=True))"
   ]
  },
  {
   "cell_type": "code",
   "execution_count": null,
   "id": "5d9e06c7",
   "metadata": {},
   "outputs": [],
   "source": [
    "## Training enhacements\n",
    "\n",
    "* learning rate scheduler\n"
   ]
  },
  {
   "cell_type": "code",
   "execution_count": 74,
   "id": "e30e6fec",
   "metadata": {},
   "outputs": [
    {
     "ename": "NameError",
     "evalue": "name 'optimizer' is not defined",
     "output_type": "error",
     "traceback": [
      "\u001b[0;31m---------------------------------------------------------------------------\u001b[0m",
      "\u001b[0;31mNameError\u001b[0m                                 Traceback (most recent call last)",
      "Cell \u001b[0;32mIn[74], line 1\u001b[0m\n\u001b[0;32m----> 1\u001b[0m \u001b[43moptimizer\u001b[49m\u001b[38;5;241m.\u001b[39mparameters\n",
      "\u001b[0;31mNameError\u001b[0m: name 'optimizer' is not defined"
     ]
    }
   ],
   "source": [
    "optimizer.parameters"
   ]
  },
  {
   "cell_type": "code",
   "execution_count": null,
   "id": "f175d68e",
   "metadata": {},
   "outputs": [],
   "source": []
  }
 ],
 "metadata": {
  "kernelspec": {
   "display_name": "Python 3 (ipykernel)",
   "language": "python",
   "name": "python3"
  },
  "language_info": {
   "codemirror_mode": {
    "name": "ipython",
    "version": 3
   },
   "file_extension": ".py",
   "mimetype": "text/x-python",
   "name": "python",
   "nbconvert_exporter": "python",
   "pygments_lexer": "ipython3",
   "version": "3.10.12"
  }
 },
 "nbformat": 4,
 "nbformat_minor": 5
}
