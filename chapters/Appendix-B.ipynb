{
 "cells": [
  {
   "cell_type": "markdown",
   "id": "2e00b590-0aed-443a-8ce9-fbd26c3b5a6b",
   "metadata": {},
   "source": [
    "# einsum and einops"
   ]
  },
  {
   "cell_type": "code",
   "execution_count": 19,
   "id": "227a69de-f240-4b77-a3b8-a2f00793a6a7",
   "metadata": {},
   "outputs": [],
   "source": [
    "import torch\n",
    "\n",
    "a = torch.randn(10,20,30)\n",
    "b = torch.randn(10,40,30)"
   ]
  },
  {
   "cell_type": "code",
   "execution_count": 20,
   "id": "429d87f5-c5e7-40b6-8e61-364773dfac88",
   "metadata": {},
   "outputs": [
    {
     "data": {
      "text/plain": [
       "torch.Size([10, 20, 40])"
      ]
     },
     "execution_count": 20,
     "metadata": {},
     "output_type": "execute_result"
    }
   ],
   "source": [
    "c = torch.matmul(a, b.permute(0,2,1))\n",
    "c.shape"
   ]
  },
  {
   "cell_type": "code",
   "execution_count": 21,
   "id": "66deb45c-c994-40b9-9839-0966e6bf7066",
   "metadata": {},
   "outputs": [
    {
     "data": {
      "text/plain": [
       "torch.Size([10, 20, 40])"
      ]
     },
     "execution_count": 21,
     "metadata": {},
     "output_type": "execute_result"
    }
   ],
   "source": [
    "from einops import rearrange, einsum\n",
    "\n",
    "c = einsum(a,b, \"b i k, b j k -> b i j\")\n",
    "c.shape"
   ]
  },
  {
   "cell_type": "code",
   "execution_count": 22,
   "id": "84ff8e3b-d4ca-407b-a5ed-b20d7f106b8a",
   "metadata": {},
   "outputs": [
    {
     "name": "stdout",
     "output_type": "stream",
     "text": [
      "torch.Size([10, 20, 30])\n",
      "torch.Size([10, 40, 30])\n"
     ]
    },
    {
     "data": {
      "text/plain": [
       "torch.Size([10, 20, 40])"
      ]
     },
     "execution_count": 22,
     "metadata": {},
     "output_type": "execute_result"
    }
   ],
   "source": [
    "print(a.shape)\n",
    "print(b.shape)\n",
    "b = rearrange(b, \"b j k -> b k j\")\n",
    "c = torch.matmul(a, b)\n",
    "c.shape"
   ]
  },
  {
   "cell_type": "code",
   "execution_count": 23,
   "id": "3d7eef9b-866e-4c1e-86d4-9423e22b8251",
   "metadata": {},
   "outputs": [
    {
     "name": "stdout",
     "output_type": "stream",
     "text": [
      "torch.Size([50, 300])\n"
     ]
    }
   ],
   "source": [
    "# Flattening Operation\n",
    "\n",
    "y = torch.randn(50,100,3)\n",
    "y = rearrange(y, 'a b c -> a (b c)')\n",
    "print(y.shape)"
   ]
  },
  {
   "cell_type": "code",
   "execution_count": 28,
   "id": "a6c36164-c93b-48d9-bdeb-5bdcd67374e4",
   "metadata": {},
   "outputs": [
    {
     "data": {
      "text/plain": [
       "torch.Size([5, 3])"
      ]
     },
     "execution_count": 28,
     "metadata": {},
     "output_type": "execute_result"
    }
   ],
   "source": [
    "# global average pooling\n",
    "from einops import reduce\n",
    "\n",
    "img = torch.randn(5, 32,32,3)\n",
    "gvp = reduce(img, 'b w h c -> b c', reduction='mean')\n",
    "gvp.shape"
   ]
  },
  {
   "cell_type": "code",
   "execution_count": null,
   "id": "f99ec914-af4a-49c0-a4a5-428e6ffda028",
   "metadata": {},
   "outputs": [],
   "source": []
  }
 ],
 "metadata": {
  "kernelspec": {
   "display_name": "Python 3 (ipykernel)",
   "language": "python",
   "name": "python3"
  },
  "language_info": {
   "codemirror_mode": {
    "name": "ipython",
    "version": 3
   },
   "file_extension": ".py",
   "mimetype": "text/x-python",
   "name": "python",
   "nbconvert_exporter": "python",
   "pygments_lexer": "ipython3",
   "version": "3.12.2"
  }
 },
 "nbformat": 4,
 "nbformat_minor": 5
}
