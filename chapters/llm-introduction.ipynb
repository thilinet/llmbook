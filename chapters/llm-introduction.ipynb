{
 "cells": [
  {
   "cell_type": "markdown",
   "id": "a3714065",
   "metadata": {},
   "source": [
    "## LLM Introduction\n",
    "\n"
   ]
  },
  {
   "cell_type": "markdown",
   "id": "8738ee87",
   "metadata": {},
   "source": [
    "## Language models probabilistic formulation\n",
    "\n",
    "Large language models are trained from discrete tokens. For ease of understanding equate roughly a token to a word. Say we have a super set of tokens $T = \\{t_1, t_2,...t_n\\}$ from which we create training dataset to train large language model. Here is a single record pair passed to train the model.\n",
    "\n",
    "$$\n",
    "x_1 = \\{t_1, t_2, t_3, t_4 \\}\n",
    "y_1 = \\{t_2, t_3, t_4, t_5 \\}\n",
    "$$\n",
    "\n",
    "The labels are created from x by sliding one step to the right. How much to slide is a design choice. Also the length of input is predefined, commonly known as context length. When we llama-2 has a context length of 4K, we know that each instance of its training record had 4K tokens. You should be quick to notice here that we don't need a separate label records or class information for each of our input. The output y values can be derived automatically from the input x. This makes creating a dataset for a language model much easier. We dont need separate time and resource to create a labelled dataset.\n",
    "\n",
    "If you have trouble with these notation, here is a python snippet where we represent token superset and training samples using words.\n",
    "\n"
   ]
  },
  {
   "cell_type": "code",
   "execution_count": 28,
   "id": "d640aceb",
   "metadata": {},
   "outputs": [
    {
     "name": "stdout",
     "output_type": "stream",
     "text": [
      "Tokens superset \n",
      " ['on', 'deep', 'text', 'data.', 'trained', 'Large', 'amount', 'neural', 'models', 'language', 'are', 'network', 'of', 'vast']\n",
      "Training Instances\n",
      "X: ['on', 'deep', 'text'] y: ['deep', 'text', 'data.']\n",
      "X: ['deep', 'text', 'data.'] y: ['text', 'data.', 'trained']\n",
      "X: ['text', 'data.', 'trained'] y: ['data.', 'trained', 'Large']\n",
      "X: ['data.', 'trained', 'Large'] y: ['trained', 'Large', 'amount']\n",
      "X: ['trained', 'Large', 'amount'] y: ['Large', 'amount', 'neural']\n",
      "X: ['Large', 'amount', 'neural'] y: ['amount', 'neural', 'models']\n",
      "X: ['amount', 'neural', 'models'] y: ['neural', 'models', 'language']\n",
      "X: ['neural', 'models', 'language'] y: ['models', 'language', 'are']\n",
      "X: ['models', 'language', 'are'] y: ['language', 'are', 'network']\n",
      "X: ['language', 'are', 'network'] y: ['are', 'network', 'of']\n",
      "X: ['are', 'network', 'of'] y: ['network', 'of', 'vast']\n"
     ]
    }
   ],
   "source": [
    "\n",
    "text = \"Large language models are deep neural network trained on vast amount of text data.\"\n",
    "T = list(set([x for x in text.split(\" \")]))\n",
    "\n",
    "print(f\"Tokens superset \\n {T}\")\n",
    "\n",
    "\n",
    "X = []\n",
    "y = []\n",
    "\n",
    "k=3\n",
    "for i in range(len(T)-k):\n",
    "    X.append(T[i:i+k])\n",
    "    y.append(T[i+1:i+k+1])\n",
    "\n",
    "print(f\"Training Instances\")\n",
    "\n",
    "for x,y in zip(X,y):\n",
    "    print(f\"X: {x} y: {y}\")"
   ]
  },
  {
   "cell_type": "markdown",
   "id": "b4f40803",
   "metadata": {},
   "source": [
    "\n",
    "While we train the model, it learns to predict $t_5$ given ${t_1,t_2,t_3,t_4}$. To simply put it we are training the model to do next word prediction. These are called as autoregressive models or causal models. We train a model with $\\theta$ parameters. Our objective is to find the best parameters $\\theta$ so that *likelihood* of this model predicting the correct following token, given a bunch of tokens is very high. Remember these are probabilistic models. So the likelihood of a language model for given training example $(x_i, y_i)$ is the probability the model assings to the correct $y_i$. In our example\n",
    "\n",
    "\n",
    "$$\n",
    "x_1 = \\{t_1, t_2, t_3, t_4 \\}\n",
    "y_1 = \\{t_2, t_3, t_4, t_5 \\}\n",
    "$$\n",
    "\n",
    "We expect the model to assign high probability for $t_5$ given that our input to the model is $\\{t_1, t_2, t_3, t_4 \\}$.\n",
    "\n",
    "In simpler terms, let us say our superset of tokens is of length 5, with a context size of 2 and sliding of one, we want maximum probabilities for $t_3, t_4, t_5$ to be the next token prediction for their respective inputs.\n",
    "\n",
    "$$\n",
    "P(X, \\theta) = P(t_3 | t_2,t_1) * P(t_4|t_3,t_2) * P(t_5|t_4,t_3)\n",
    "$$\n",
    "\n",
    "Finally when the model is trained, we want the model to give maximum probabilities for $P(t_3 | t_2,t_1), P(t_4|t_3,t_2), P(t_5|t_4,t_3)$. Say if you encounter a scenario where\n",
    "\n",
    "$$\n",
    "P(t_3 | t_2,t_1) < P(t_4 | t_2,t_1)\n",
    "$$\n",
    "\n",
    "We know our model is not trained properly. Since each training pair is independent of the other, we can multiply their probabilities. Our aim in fitting a model is to arrive at best parameters $\\theta$ which can maximize these probability. \n",
    "\n",
    "All these probabilities are very small values. Mutliplying them will further reduce these values and may lead to numerical stability issues due to the limited precision of floating point numbers. For float32 datatype the smallest number is close to $10^-45$. We can leverage by moving to log scale. \n",
    "\n",
    "$$\n",
    "log(P(X, \\theta)) = log(P(t_3 | t_2,t_1)) + log(P(t_4|t_3,t_2)) + log(P(t_5|t_4,t_3))\n",
    "$$\n",
    "\n",
    "The below python snippet explains how we can move to log scale and still face no impediments in that process. The log functions are stricly monotonic in nature and hence they help us with the scale of our values and successfully address numerical instability issues."
   ]
  },
  {
   "cell_type": "code",
   "execution_count": 29,
   "id": "eacba4ff",
   "metadata": {},
   "outputs": [
    {
     "data": {
      "text/plain": [
       "[<matplotlib.lines.Line2D at 0x777dbdd97b80>]"
      ]
     },
     "execution_count": 29,
     "metadata": {},
     "output_type": "execute_result"
    },
    {
     "data": {
      "image/png": "[encoded data removed]",
      "text/plain": [
       "<Figure size 432x288 with 1 Axes>"
      ]
     },
     "metadata": {
      "needs_background": "light"
     },
     "output_type": "display_data"
    }
   ],
   "source": [
    "import matplotlib.pyplot as plt\n",
    "import numpy as np\n",
    "\n",
    "fx = lambda x: np.sin(x)\n",
    "lfx = lambda x: np.log(np.sin(x))\n",
    "\n",
    "x = np.random.random(10)\n",
    "\n",
    "\n",
    "plt.plot(fx(x))\n",
    "plt.plot(lfx(x))"
   ]
  },
  {
   "cell_type": "markdown",
   "id": "19698be7",
   "metadata": {},
   "source": [
    "Logarithms are *stricly monatonic*. They change the values, but not does not changes the shape, you see that peaks and valleys are same for both the functions in the above example. fx and lfx are two functions, where the second is a log of values thrown by the first function. Coming back to our equation, we can write the log likelihood in a generic way."
   ]
  },
  {
   "cell_type": "markdown",
   "id": "eefda8c8",
   "metadata": {},
   "source": [
    "For super set of tokens $T = \\{t_1, t_2,...t_n\\}$, say context length is k, we can write above equation as\n",
    "\n",
    "$\n",
    "log(P(X,\\theta)) = \\sum_{i=1}^n log(P(t_i+k|t_i-k,..t_i+1,t_i))\n",
    "$\n",
    "\n",
    "As said earlier our objective is to build a model, which has the right parameters $\\theta$, such that the output probabilities of correct output token is maximum. In other words, we want our $\\theta$ such that value of the above equation is at the highest. To further iron it out, say we have two models, the first model has parameters $\\theta_1$ and the second model has parameters $\\theta_2$ if\n",
    "\n",
    "$\n",
    "log(P(X,\\theta_1)) >> log(P(X,\\theta_2))\n",
    "$\n",
    "\n",
    "we can conclude that our second model is superior to our first model. We say that we want to maximize the log-likelihood equation. The figure below shows the a sample input and corresponding output produced by the model.\n",
    "\n",
    "```{figure} ../images/llm_io.jpg\n",
    "---\n",
    "height: 150px\n",
    "name: llm-io-fig\n",
    "---\n",
    "Input and output to a language model\n",
    "```\n",
    "\n",
    "For illustration we have assumed context length as two. So for token 1 and token 2, the model predicts a distribution over all the tokens in the superset. For token 1, you can see that we have logits values for all the tokens $t_1 to t_5$. These values dont sum up to one, they can be passed to a softmax normalization later to be normalized. We expect that when the model is trained, for token $t_1$, the model should assign high logit value to $t_2$ and similarly for $t_2$ high logit values for $t_3$. Say we have n pairs of training data. We can rewrite our objective equation as\n",
    "\n",
    "$$\n",
    "log(P(X, \\theta)) = \\frac{1}{n}.\\sum_{i=1}^n p_i^{True}.log(p_i)\n",
    "$$\n",
    "\n",
    "See the python code here for token $t_2$\n"
   ]
  },
  {
   "cell_type": "code",
   "execution_count": 32,
   "id": "9a697dd1",
   "metadata": {},
   "outputs": [
    {
     "data": {
      "text/plain": [
       "0.789"
      ]
     },
     "execution_count": 32,
     "metadata": {},
     "output_type": "execute_result"
    }
   ],
   "source": [
    "y_true = [0.,0.,1.,0.,0.]\n",
    "y_predicted = [.23,.002,.789,.654,.567]\n",
    "\n",
    "sum([x*y for x,y in zip(y_true, y_predicted)])"
   ]
  },
  {
   "cell_type": "markdown",
   "id": "97dc7d80",
   "metadata": {},
   "source": [
    "Since its a standard for optimizers to use the minimize operation, we we take the negative of our objective function.\n",
    "\n",
    "$$\n",
    "NLL = -\\frac{1}{n}.\\sum_{i=1}^n p_i^{True}.log(p_i)\n",
    "$$\n",
    "\n",
    "This is the negative log-\n"
   ]
  },
  {
   "cell_type": "markdown",
   "id": "766faee2",
   "metadata": {},
   "source": [
    "For those new to LLMs, we will run ollama service to play with some popular large language models."
   ]
  },
  {
   "cell_type": "markdown",
   "id": "882c65c0-3022-40c5-8803-26ed1f3acee1",
   "metadata": {},
   "source": [
    "## Ollama\n",
    "\n",
    "Ollama enables us to run open source LLMs locally. A tool that enables local deployment of large language models. A great tool for experimetning with LLMs. No need cloud hosting.\n",
    "http://github.com/ollama/ollama. Refer to the website for installation.\n",
    "\n",
    "Advantages for using Ollama,\n",
    "\n",
    "1. Quick iteratvie development without needing to deploy model changes\n",
    "2. Privacy and security - data does not leave your machine.\n",
    "3. cost - more cost effective than making API calls.\n",
    "4. control - more control over the model"
   ]
  },
  {
   "cell_type": "markdown",
   "id": "91e80020-d6e3-41c0-b8c4-7a1a7cf84bfc",
   "metadata": {},
   "source": [
    "    curl  -fsSL https://ollama.com/install.sh | sh\n",
    "\n",
    "    >>> Installing ollama to /usr/local/bin...\n",
    "    >>> Creating ollama user...\n",
    "    >>> Adding ollama user to render group...\n",
    "    >>> Adding ollama user to video group...\n",
    "    >>> Adding current user to ollama group...\n",
    "    >>> Creating ollama systemd service...\n",
    "    >>> Enabling and starting ollama service...\n",
    "    Created symlink /etc/systemd/system/default.target.wants/ollama.service → /etc/systemd/system/ollama.service.\n",
    "    >>> NVIDIA GPU installed.\n",
    "\n",
    "    sudo systemctl status ollama\n",
    "    ● ollama.service - Ollama Service\n",
    "         Loaded: loaded (/etc/systemd/system/ollama.service; enabled; vendor preset: enabled)\n",
    "         Active: active (running) since Sat 2024-05-11 19:59:42 EDT; 5min ago\n",
    "       Main PID: 1053781 (ollama)\n",
    "          Tasks: 18 (limit: 18827)\n",
    "         Memory: 480.5M\n",
    "         CGroup: /system.slice/ollama.service\n",
    "                 └─1053781 /usr/local/bin/ollama serve\n",
    "    \n",
    "    May 11 19:59:42 gopi-G5-MD ollama[1053781]: Couldn't find '/usr/share/ollama/.ollama/id_ed25519'. Generating new private key.\n",
    "    May 11 19:59:42 gopi-G5-MD ollama[1053781]: Your new public key is:\n",
    "    May 11 19:59:42 gopi-G5-MD ollama[1053781]: ssh-ed25519 AAAAC3NzaC1lZDI1NTE5AAAAIPkwrlZDwOjnkF2xAiAWVxs8CrIfsqSnNcs3adQQv9xC\n",
    "    May 11 19:59:42 gopi-G5-MD ollama[1053781]: 2024/05/11 19:59:42 routes.go:1006: INFO server config env=\"map[OLLAMA_DEBUG:false OLLAMA_LLM_LIBRARY: OLLAMA_MAX_LOADED_MODELS:1 OLLAMA_MAX_QUEUE:512 OLLAMA_>\n",
    "    May 11 19:59:42 gopi-G5-MD ollama[1053781]: time=2024-05-11T19:59:42.753-04:00 level=INFO source=images.go:704 msg=\"total blobs: 0\"\n",
    "    May 11 19:59:42 gopi-G5-MD ollama[1053781]: time=2024-05-11T19:59:42.753-04:00 level=INFO source=images.go:711 msg=\"total unused blobs removed: 0\"\n",
    "    May 11 19:59:42 gopi-G5-MD ollama[1053781]: time=2024-05-11T19:59:42.753-04:00 level=INFO source=routes.go:1052 msg=\"Listening on 127.0.0.1:11434 (version 0.1.36)\"\n",
    "    May 11 19:59:42 gopi-G5-MD ollama[1053781]: time=2024-05-11T19:59:42.753-04:00 level=INFO source=payload.go:30 msg=\"extracting embedded files\" dir=/tmp/ollama769771873/runners\n",
    "    May 11 19:59:44 gopi-G5-MD ollama[1053781]: time=2024-05-11T19:59:44.699-04:00 level=INFO source=payload.go:44 msg=\"Dynamic LLM libraries [cpu cpu_avx cpu_avx2 cuda_v11 rocm_v60002]\"\n",
    "    May 11 19:59:45 gopi-G5-MD ollama[1053781]: time=2024-05-11T19:59:45.929-04:00 level=INFO source=types.go:71 msg=\"inference compute\" id=0 library=cpu compute=\"\" driver=0.0 name=\"\" total=\"15.4 GiB\" avail>\n",
    "    lines 1-19/19 (END)\n",
    "\n",
    "\n"
   ]
  },
  {
   "cell_type": "markdown",
   "id": "be934afd-2196-473d-ba30-8012c07329f4",
   "metadata": {},
   "source": [
    "## List of available models\n",
    "\n",
    "    ollama list\n",
    "    NAME\tID\tSIZE\tMODIFIED \n",
    "\n",
    "## Pull a model\n",
    "\n",
    "     ollama pull phi3\n",
    "    pulling manifest \n",
    "    pulling 4fed7364ee3e... 100% ▕███████████████████████████████████████████████████████████████████████████████████████████████████████████████████████████████████████████▏ 2.3 GB                         \n",
    "    pulling c608dc615584... 100% ▕███████████████████████████████████████████████████████████████████████████████████████████████████████████████████████████████████████████▏  149 B                         \n",
    "    pulling fa8235e5b48f... 100% ▕███████████████████████████████████████████████████████████████████████████████████████████████████████████████████████████████████████████▏ 1.1 KB                         \n",
    "    pulling d47ab88b61ba... 100% ▕███████████████████████████████████████████████████████████████████████████████████████████████████████████████████████████████████████████▏  140 B                         \n",
    "    pulling f7eda1da5a81... 100% ▕███████████████████████████████████████████████████████████████████████████████████████████████████████████████████████████████████████████▏  485 B                         \n",
    "    verifying sha256 digest \n",
    "    writing manifest \n",
    "    removing any unused layers \n",
    "    success \n",
    "\n",
    "\n",
    "    (base) gopi@gopi-G5-MD:~/Documents/small_llm$ ollama list\n",
    "    NAME       \tID          \tSIZE  \tMODIFIED       \n",
    "    phi3:latest\ta2c89ceaed85\t2.3 GB\t19 seconds ago\t\n",
    "\n",
    "\n",
    "Now listing the model shows phi3 model. The models are stored as blob in /usr/share/ollama/.ollama\n",
    "\n",
    "Ollama bundles the model into a single package defined by a Modelfile. Let us see the modelfile for phi3.\n",
    "\n",
    "    >>> /show modelfile\n",
    "    # Modelfile generate by \"ollama show\"\n",
    "    # To build a new Modelfile based on this, replace FROM with:\n",
    "    # FROM phi3:latest\n",
    "    \n",
    "    FROM /usr/share/ollama/.ollama/models/blobs/sha256-4fed7364ee3e0c7cb4fe0880148bfdfcd1b630981efa0802a6b62ee52e7da97e\n",
    "    TEMPLATE \"{{ if .System }}<|system|>\n",
    "    {{ .System }}<|end|>\n",
    "    {{ end }}{{ if .Prompt }}<|user|>\n",
    "    {{ .Prompt }}<|end|>\n",
    "    {{ end }}<|assistant|>\n",
    "    {{ .Response }}<|end|>\n",
    "    \"\n",
    "    PARAMETER stop <|user|>\n",
    "    PARAMETER stop <|assistant|>\n",
    "    PARAMETER stop <|system|>\n",
    "    PARAMETER stop <|end|>\n",
    "    PARAMETER stop <|endoftext|>\n",
    "    PARAMETER num_keep 4\n",
    "    LICENSE \"\"\"Microsoft.\n",
    "    Copyright (c) Microsoft Corporation.\n",
    "    \n",
    "    MIT License\n",
    "    \n",
    "    Permission is hereby granted, free of charge, to any person obtaining a copy\n",
    "    of this software and associated documentation files (the \"Software\"), to deal\n",
    "    in the Software without restriction, including without limitation the rights\n",
    "    to use, copy, modify, merge, publish, distribute, sublicense, and/or sell\n",
    "    copies of the Software, and to permit persons to whom the Software is\n",
    "    furnished to do so, subject to the following conditions:\n",
    "    \n",
    "    The above copyright notice and this permission notice shall be included in all\n",
    "    copies or substantial portions of the Software.\n",
    "    \n",
    "    THE SOFTWARE IS PROVIDED *AS IS*, WITHOUT WARRANTY OF ANY KIND, EXPRESS OR\n",
    "    IMPLIED, INCLUDING BUT NOT LIMITED TO THE WARRANTIES OF MERCHANTABILITY,\n",
    "    FITNESS FOR A PARTICULAR PURPOSE AND NONINFRINGEMENT. IN NO EVENT SHALL THE\n",
    "    AUTHORS OR COPYRIGHT HOLDERS BE LIABLE FOR ANY CLAIM, DAMAGES OR OTHER\n",
    "    LIABILITY, WHETHER IN AN ACTION OF CONTRACT, TORT OR OTHERWISE, ARISING FROM,\n",
    "    OUT OF OR IN CONNECTION WITH THE SOFTWARE OR THE USE OR OTHER DEALINGS IN THE\n",
    "    SOFTWARE.\"\"\"\n"
   ]
  },
  {
   "cell_type": "code",
   "execution_count": null,
   "id": "e2c45969-764a-497f-b218-4d0f94b0175b",
   "metadata": {},
   "outputs": [],
   "source": [
    "## Interacting with LLM\n",
    "\n",
    "    ollama run phi3:latest\n",
    "    >>> Why is the sky blue in color?\n",
    "     The sky appears blue to our eyes because of a phenomenon called Rayleigh scattering. As sunlight travels through Earth's atmosphere, it encounters molecules and small particles that are much \n",
    "    smaller than its wavelength. These particles scatter shorter-wavelength light (blue and violet) more effectively than longer-wavelength light (red, orange).\n",
    "    \n",
    "    However, our eyes are less sensitive to violet light, and the Sun emits less violet light compared to blue light; that's why we see a predominantly blue sky during daytime. At sunrise or sunset, \n",
    "    when the light path through the atmosphere is longer, even more scattering of red and orange wavelengths occurs, which makes the sky appear in shades of red, pink, and orange.\n",
    "    \n",
    "    The overall color perception can also be affected by atmospheric conditions such as pollution or dust particles. But under normal circumstances on a clear day, Rayleigh scattering is responsible \n",
    "    for the blue coloration of our sky.\n",
    "    \n",
    "    >>> Send a message (/? for help)\n",
    "\n"
   ]
  },
  {
   "cell_type": "code",
   "execution_count": null,
   "id": "f7d6f04c",
   "metadata": {},
   "outputs": [],
   "source": []
  }
 ],
 "metadata": {
  "kernelspec": {
   "display_name": "Python 3 (ipykernel)",
   "language": "python",
   "name": "python3"
  },
  "language_info": {
   "codemirror_mode": {
    "name": "ipython",
    "version": 3
   },
   "file_extension": ".py",
   "mimetype": "text/x-python",
   "name": "python",
   "nbconvert_exporter": "python",
   "pygments_lexer": "ipython3",
   "version": "3.10.12"
  }
 },
 "nbformat": 4,
 "nbformat_minor": 5
}
