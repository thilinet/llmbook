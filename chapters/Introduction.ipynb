{
 "cells": [
  {
   "cell_type": "markdown",
   "id": "6c2c1dde",
   "metadata": {},
   "source": [
    "# Introduction"
   ]
  },
  {
   "cell_type": "markdown",
   "id": "304bcc18",
   "metadata": {},
   "source": [
    "## About"
   ]
  },
  {
   "cell_type": "markdown",
   "id": "b38290e6",
   "metadata": {},
   "source": [
    "## Organization of chapters"
   ]
  },
  {
   "cell_type": "markdown",
   "id": "64fd26f8",
   "metadata": {},
   "source": [
    "## Development environment"
   ]
  },
  {
   "cell_type": "code",
   "execution_count": null,
   "id": "64831d73",
   "metadata": {},
   "outputs": [],
   "source": []
  }
 ],
 "metadata": {
  "kernelspec": {
   "display_name": "Python 3 (ipykernel)",
   "language": "python",
   "name": "python3"
  },
  "language_info": {
   "codemirror_mode": {
    "name": "ipython",
    "version": 3
   },
   "file_extension": ".py",
   "mimetype": "text/x-python",
   "name": "python",
   "nbconvert_exporter": "python",
   "pygments_lexer": "ipython3",
   "version": "3.10.12"
  }
 },
 "nbformat": 4,
 "nbformat_minor": 5
}
